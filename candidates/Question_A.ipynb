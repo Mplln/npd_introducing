{
 "cells": [
  {
   "cell_type": "markdown",
   "metadata": {},
   "source": [
    "# CIDACS: SUPORTE EM ROTINAS DE PRODUÇÃO DE DADOS - Logical / Problem solving\n",
    "\n",
    "CIDACS has a strong relationship with UFBA(Federal University of Bahia). Many members of CIDACS are/were UFBA students, from undergrad to postdoc. On a trip to UFBA, Marcus came up with a problem. Imagine that the UFBA Bus(buzufba) had infinite length. Because they don't practice sports like rowing, every UFBA student sits right after entering the bus, making pairs whenever possible. Given a number n which indicates the number of institutes at UFBA and m integers mi representing the amount of people waiting for the bus at the institute i, Marcus wants to know for q questions, represented by a pair of integers lq, rq (lq ≤ rq) if all the people waiting for the bus at any point between lq and rq (inclusive) took an empty bus, they could sit together in pairs (nobody would sit alone).\n",
    "\n",
    "### Input\n",
    "The input consist in one line with two integers n and q, the number of institutes and the number of Marcus's questions. In the second line there are m integers mi, the number of people waiting for the bus at the ith institute. Then follows q lines with two integers each, lq and rq, where l is the first and r last institute of Marcus's question.\n",
    "\n",
    "### Output\n",
    "Output \"Sim\" if it is possible to organize all the pairs in a way nobody sits alone or \"Nao\" otherwise.\n",
    "\n",
    "### Example 1\n",
    "input<br>\n",
    "5 2<br>\n",
    "1 4 10 3 2<br>\n",
    "3 5<br>\n",
    "2 3<br>\n",
    "\n",
    "output<br>\n",
    "Nao<br>\n",
    "Sim<br>\n",
    "\n",
    "### Example 2\n",
    "input<br>\n",
    "7 4<br>\n",
    "2 12 3 16 7 10 32<br>\n",
    "2 6<br>\n",
    "1 4<br>\n",
    "3 7<br>\n",
    "1 7<br>\n",
    "\n",
    "output<br>\n",
    "Sim<br>\n",
    "Não<br>\n",
    "Sim<br>\n",
    "Sim<br>\n",
    "\n",
    "### Note (Example 1)\n",
    "In the first sample we have 5 institutes with 1, 4, 10, 3 and 2 students. Marcus asks if it is possible to form only couples if the ones between the 3rd and the 5th institutes takes an empty bus and the ones between the 2nd and the 3rd. For the first we have 15 so we can't and for the second we have 14 so we can."
   ]
  }
 ],
 "metadata": {
  "kernelspec": {
   "display_name": "Python 3",
   "language": "python",
   "name": "python3"
  },
  "language_info": {
   "codemirror_mode": {
    "name": "ipython",
    "version": 3
   },
   "file_extension": ".py",
   "mimetype": "text/x-python",
   "name": "python",
   "nbconvert_exporter": "python",
   "pygments_lexer": "ipython3",
   "version": "3.6.5"
  }
 },
 "nbformat": 4,
 "nbformat_minor": 2
}
