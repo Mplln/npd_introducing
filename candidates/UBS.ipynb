{
 "cells": [
  {
   "cell_type": "code",
   "execution_count": 2,
   "metadata": {},
   "outputs": [],
   "source": [
    "import pandas as pd\n",
    "import numpy as np"
   ]
  },
  {
   "cell_type": "markdown",
   "metadata": {},
   "source": [
    "# CIDACS: SUPORTE EM ROTINAS DE PRODUÇÃO DE DADOS - Data analysis / Avaliation\n",
    "\n",
    "This is a practical and technical test whose objective is to evaluate how could you analyze and interprets data.The purpose of this test is to identify your capacity to analyze data and maybe to suggest news insights.\n",
    "\n",
    "The dataset is related to the Basic Health Unity (UBS), it was disponibility by the Ministry of Health of Brazil, it shows the cities that received the program of the government.\n",
    "\n",
    "\n",
    "\n",
    "## Challenge\n",
    "Based on the data provided, answer the following questions:\n",
    "\n",
    "1. How many cities were built the UBS ?\n",
    "2. How many UBS in Vitória they got the a really good situation of equipment?\n",
    "3. How many UBS receive really good review overall situations?\n",
    "3. How many UBS receive worse review overall situations?\n",
    "    1. If there is, cite one city  of this UBS\n",
    "\n",
    "## Data dictionary\n",
    "\n",
    "\n",
    "* cod_munic `IBGE code , lenght: 7 characters.` \n",
    "* dsc_bairro `Name of neighborhood.`\n",
    "* dsc_cidade `Name of city.`\n",
    "* cod_cnes `CNES code`\n",
    "* nom_estab `Name of the establishment`\n",
    "* dsc_endereco `Address of UBS`\n",
    "* dsc_estrut_fisic_ambiencia `Situation-related to general structure`\n",
    "* dsc_adap_defic_fisic_idosos `Situation-related to adaptations for the disabled and the elderly`\n",
    "* dsc_equipamentos `Situation-related to equipament`\n",
    "* dsc_medicamentos `Situation-related to medicine`\n"
   ]
  }
 ],
 "metadata": {
  "kernelspec": {
   "display_name": "Python 2",
   "language": "python",
   "name": "python2"
  },
  "language_info": {
   "codemirror_mode": {
    "name": "ipython",
    "version": 2
   },
   "file_extension": ".py",
   "mimetype": "text/x-python",
   "name": "python",
   "nbconvert_exporter": "python",
   "pygments_lexer": "ipython2",
   "version": "2.7.15"
  }
 },
 "nbformat": 4,
 "nbformat_minor": 2
}
