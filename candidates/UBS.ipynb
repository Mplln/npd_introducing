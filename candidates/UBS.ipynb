{
 "cells": [
  {
   "cell_type": "markdown",
   "metadata": {},
   "source": [
    "# CIDACS: SUPORTE EM ROTINAS DE PRODUÇÃO DE DADOS - Data analysis / Practical Test\n",
    "\n",
    "This is a practical and technical test whose objective is to evaluate how could you analyze and interprets data. The purpose of this test is to identify your capacity to analyze data and maybe to suggest news insights.\n",
    "\n",
    "The dataset is related to the Basic Health Unity (UBS), it was disponibility by the Ministry of Health of Brazil, it shows the cities that received the program of the government.\n",
    "\n",
    "Consider that you are working on a task that is part of delivering a project in production, so it is interesting to document and build well-structured code. Answers, code documentation and comments can be written in Portuguese.\n",
    "\n",
    "## Challenge\n",
    "Based on the data provided, answer the following questions:\n",
    "\n",
    "1. Create a variable with the UF code (Unidade Federativa) where the UBS are located.\n",
    "    1. What are the UF codes present in the database?\n",
    "    2. What are the most frequent UF codes (the 5 most frequent) and how often do they occur?\n",
    "    3. How many cities are there in these 5 most frequent UFs?\n",
    "    \n",
    "    Note: The first two digits of the municipality code represent the UF.\n",
    "\n",
    "2. There is a fictitious date variable (`data_eq`) in the database created only for this selection process. Create a variable with the year extracted from that variable.\n",
    "    1. Show the distribution of records by year.\n",
    "\n",
    "3. Create a variable with the length of the phone field\n",
    "    1. What are the least frequent lengths (the 5 least frequent) of phone numbers?\n",
    "    2. How many records have a phone length other than 10? What is the percentage of this value considering the size of the database?\n",
    "    \n",
    "    Bonus Question: Is there information in the phone variable that does not correspond to a phone number? If so, remove this information.\n",
    "    \n",
    "4. How many records achieved an above or much above average performance regarding the status of the drugs? What is the percentage of this value considering the size of the database?\n",
    "\n",
    "5. How many records in Bahia (code 29) achieved an average performance in relation to the situation of the drugs and a performance above or much above the average in relation to the situation of the equipment? What is the percentage of this value considering the size of the database?\n",
    "\n",
    "6. How many records had the worst performance in all variables that measure performance situations? What is the percentage of this value considering the size of the database?\n",
    "\n",
    "\n",
    "## Data dictionary\n",
    "\n",
    "\n",
    "* cod_munic: `IBGE code, lenght: 7 characters.` \n",
    "* dsc_bairro: `Name of neighborhood.`\n",
    "* dsc_cidade: `Name of city.`\n",
    "* cod_cnes: `CNES code`\n",
    "* nom_estab: `Name of the establishment`\n",
    "* dsc_endereco: `Address of UBS`\n",
    "* dsc_estrut_fisic_ambiencia: `Situation-related to general structure`\n",
    "* dsc_adap_defic_fisic_idosos: `Situation-related to adaptations for the disabled and the elderly`\n",
    "* dsc_equipamentos: `Situation-related to equipament`\n",
    "* dsc_medicamentos: `Situation-related to medicine`\n",
    "* data_eq: `Date variable`"
   ]
  },
  {
   "cell_type": "code",
   "execution_count": null,
   "metadata": {},
   "outputs": [],
   "source": [
    "import pandas as pd\n",
    "import numpy as np\n",
    "import matplotlib.pyplot as plt\n",
    "from IPython.display import display \n",
    "\n",
    "database = pd.read_csv('ubs.csv')"
   ]
  },
  {
   "source": [
    "# 1. Create a variable with the UF code (Unidade Federativa) where the UBS are located."
   ],
   "cell_type": "markdown",
   "metadata": {}
  },
  {
   "cell_type": "code",
   "execution_count": null,
   "metadata": {},
   "outputs": [],
   "source": [
    "UF = database['cod_munic'].astype(str)\n",
    "UF = UF.str[:2]\n",
    "database['UF'] = UF\n",
    "display(database)"
   ]
  },
  {
   "source": [
    "# What are the UF codes present in the database?"
   ],
   "cell_type": "markdown",
   "metadata": {}
  },
  {
   "cell_type": "code",
   "execution_count": null,
   "metadata": {},
   "outputs": [],
   "source": [
    "uf_codes = pd.DataFrame(pd.unique(database['UF']))\n",
    "uf_codes.columns = ['UF']\n",
    "display(uf_codes)"
   ]
  },
  {
   "source": [
    "# What are the most frequent UF codes (the 5 most frequent) and how often do they occur?"
   ],
   "cell_type": "markdown",
   "metadata": {}
  },
  {
   "cell_type": "code",
   "execution_count": null,
   "metadata": {},
   "outputs": [],
   "source": [
    "most_freqUF = pd.DataFrame(pd.value_counts(database['UF']).head(5))\n",
    "most_freqUF.columns = ['Frequency']\n",
    "most_freqUF['UF'] = most_freqUF.index\n",
    "display(most_freqUF)"
   ]
  },
  {
   "source": [
    "# How many cities are there in these 5 most frequent UFs?"
   ],
   "cell_type": "markdown",
   "metadata": {}
  },
  {
   "cell_type": "code",
   "execution_count": null,
   "metadata": {},
   "outputs": [],
   "source": [
    "#Organizar por UF e contar os valores únicos de municípios\n",
    "UF_group = database.groupby('UF')['cod_munic'].nunique()\n",
    "#Usar DF\n",
    "UF_group = pd.DataFrame(UF_group)\n",
    "UF_group['UF'] = UF_group.index\n",
    "\n",
    "#Comparar UF agrupado com UF mais frequente\n",
    "UF_group.query(\"UF in %s\" % most_freqUF['UF'].values.tolist())\n"
   ]
  },
  {
   "source": [
    "# 2. There is a fictitious date variable (`data_eq`) in the database created only for this selection process. Create a variable with the year extracted from that variable.\n"
   ],
   "cell_type": "markdown",
   "metadata": {}
  },
  {
   "source": [
    "database['year'] = database['data_eq'].str[:4]"
   ],
   "cell_type": "code",
   "metadata": {},
   "execution_count": null,
   "outputs": []
  },
  {
   "source": [
    "# Show the distribution of records by year."
   ],
   "cell_type": "markdown",
   "metadata": {}
  },
  {
   "cell_type": "code",
   "execution_count": null,
   "metadata": {},
   "outputs": [],
   "source": [
    "year_dist = pd.value_counts(database['year']).to_frame()\n",
    "year_dist.columns = ['records']\n",
    "year_dist['year'] = year_dist.index\n",
    "display(year_dist)\n",
    "\n",
    "year_dist.plot(kind = 'bar', x = 'year', y='records')\n",
    "plt.ylim(12500, 12700)\n",
    "plt.show()"
   ]
  },
  {
   "source": [
    "# 3. Create a variable with the length of the phone field"
   ],
   "cell_type": "markdown",
   "metadata": {}
  },
  {
   "cell_type": "code",
   "execution_count": null,
   "metadata": {},
   "outputs": [],
   "source": [
    "#Bonus Question: Is there information in the phone variable that does not correspond to a phone number? If so, remove this information.\n",
    "def check_phone_num(phone):\n",
    "    phone = phone.translate({ord(i): None for i in '()'})\n",
    "    if phone.isnumeric():\t\n",
    "        return phone\n",
    "    else:\n",
    "        return ''\n",
    "\n",
    "database['dsc_telefone'] = database['dsc_telefone'].apply(check_phone_num)\n",
    "database['phone_len'] = database['dsc_telefone'].apply(len)\n"
   ]
  },
  {
   "source": [
    "# What are the least frequent lengths (the 5 least frequent) of phone numbers?"
   ],
   "cell_type": "markdown",
   "metadata": {}
  },
  {
   "cell_type": "code",
   "execution_count": null,
   "metadata": {},
   "outputs": [],
   "source": [
    "most_freq_phone_len = pd.DataFrame(pd.value_counts(database['phone_len']))\n",
    "most_freq_phone_len.columns = ['Frequency']\n",
    "most_freq_phone_len['length'] = most_freq_phone_len.index\n",
    "most_freq_phone_len = most_freq_phone_len.drop([0], axis = 0)\n",
    "display(most_freq_phone_len.tail(5))\n"
   ]
  },
  {
   "source": [
    "# How many records have a phone length other than 10? "
   ],
   "cell_type": "markdown",
   "metadata": {}
  },
  {
   "cell_type": "code",
   "execution_count": null,
   "metadata": {},
   "outputs": [],
   "source": [
    "most_freq_phone_len[most_freq_phone_len['length']!=10].count()['length']"
   ]
  },
  {
   "source": [
    "# What is the percentage of this value considering the size of the database?"
   ],
   "cell_type": "markdown",
   "metadata": {}
  },
  {
   "cell_type": "code",
   "execution_count": null,
   "metadata": {},
   "outputs": [],
   "source": [
    "percent = most_freq_phone_len[most_freq_phone_len['length']!=10].sum()['Frequency']/most_freq_phone_len.sum()['Frequency']*100\n",
    "\n",
    "print('Percentage of the records that have a phone length other than 10: %.2f%%' % percent)\n"
   ]
  },
  {
   "source": [
    "# 4. How many records achieved an above or much above average performance regarding the status of the drugs? "
   ],
   "cell_type": "markdown",
   "metadata": {}
  },
  {
   "cell_type": "code",
   "execution_count": null,
   "metadata": {},
   "outputs": [],
   "source": [
    "drugs = database.apply(lambda x : True\n",
    "    if 'acima' in x['dsc_medicamentos'] else False, axis = 1)\n",
    "good_records = len(drugs[drugs == True].index)\n",
    "print(good_records)"
   ]
  },
  {
   "source": [
    "# What is the percentage of this value considering the size of the database?"
   ],
   "cell_type": "markdown",
   "metadata": {}
  },
  {
   "cell_type": "code",
   "execution_count": null,
   "metadata": {},
   "outputs": [],
   "source": [
    "drugs_percent = good_records/len(drugs)*100\n",
    "print('percentage of above or much above average: %.2f%%' % drugs_percent)"
   ]
  },
  {
   "source": [
    "# 5. How many records in Bahia (code 29) achieved an average performance in relation to the situation of the drugs and a performance above or much above the average in relation to the situation of the equipment?"
   ],
   "cell_type": "markdown",
   "metadata": {}
  },
  {
   "source": [
    "def situation5(x):\n",
    "    if x['UF'] == '29' and 'mediano' in x['dsc_medicamentos'] and 'acima' in x['dsc_equipamentos']:\n",
    "        return True\n",
    "    else:\n",
    "        return False\n",
    "\n",
    "records_5 = database.apply(situation5, axis = 1)\n",
    "records_5_match = len(records_5[records_5 == True].index)\n",
    "print('answer: %4d records' % records_5_match)\n"
   ],
   "cell_type": "code",
   "metadata": {},
   "execution_count": null,
   "outputs": []
  },
  {
   "source": [
    "# What is the percentage of this value considering the size of the database?"
   ],
   "cell_type": "markdown",
   "metadata": {}
  },
  {
   "cell_type": "code",
   "execution_count": null,
   "metadata": {},
   "outputs": [],
   "source": [
    "records_5_percent = records_5_match/len(records_5)*100\n",
    "print('percentage of above or much above average: %.2f%%' % records_5_percent)"
   ]
  },
  {
   "source": [
    "# 6. How many records had the worst performance in all variables that measure performance situations?"
   ],
   "cell_type": "markdown",
   "metadata": {}
  },
  {
   "cell_type": "code",
   "execution_count": null,
   "metadata": {},
   "outputs": [],
   "source": [
    "def situation6(x):\n",
    "    if 'mediano' in x['dsc_medicamentos'] and 'mediano' in x['dsc_equipamentos'] and 'mediano' in x['dsc_estrut_fisic_ambiencia'] and 'mediano' in x['dsc_adap_defic_fisic_idosos']:\n",
    "        return True\n",
    "    else:\n",
    "        return False\n",
    "\n",
    "records_6 = database.apply(situation6, axis = 1)\n",
    "records_6_match = len(records_6[records_6 == True].index)\n",
    "print('answer: %4d records' % records_6_match)"
   ]
  },
  {
   "source": [
    "# What is the percentage of this value considering the size of the database?"
   ],
   "cell_type": "markdown",
   "metadata": {}
  },
  {
   "cell_type": "code",
   "execution_count": null,
   "metadata": {},
   "outputs": [],
   "source": [
    "records_6_percent = records_6_match/len(records_6)*100\n",
    "print('percentage of worst performance: %.2f%%' % records_6_percent)"
   ]
  }
 ],
 "metadata": {
  "hide_input": false,
  "kernelspec": {
   "name": "python3",
   "display_name": "Python 3.7.4 64-bit (conda)",
   "metadata": {
    "interpreter": {
     "hash": "998846d1bf213eb190591cd8b152e1d6952973a52c40ed5e8db467f6f85c9dc7"
    }
   }
  },
  "language_info": {
   "codemirror_mode": {
    "name": "ipython",
    "version": 3
   },
   "file_extension": ".py",
   "mimetype": "text/x-python",
   "name": "python",
   "nbconvert_exporter": "python",
   "pygments_lexer": "ipython3",
   "version": "3.7.4-final"
  }
 },
 "nbformat": 4,
 "nbformat_minor": 2
}