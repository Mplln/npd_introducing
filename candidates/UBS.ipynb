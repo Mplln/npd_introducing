{
 "cells": [
  {
   "cell_type": "markdown",
   "metadata": {},
   "source": [
    "# CIDACS: SUPORTE EM ROTINAS DE PRODUÇÃO DE DADOS - Data analysis / Practical Test\n",
    "\n",
    "This is a practical and technical test whose objective is to evaluate how could you analyze and interprets data. The purpose of this test is to identify your capacity to analyze data and maybe to suggest news insights.\n",
    "\n",
    "The dataset is related to the Basic Health Unity (UBS), it was disponibility by the Ministry of Health of Brazil, it shows the cities that received the program of the government.\n",
    "\n",
    "Consider that you are working on a task that is part of delivering a project in production, so it is interesting to document and build well-structured code. Answers, code documentation and comments can be written in Portuguese.\n",
    "\n",
    "## Challenge\n",
    "Based on the data provided, answer the following questions:\n",
    "\n",
    "1. Create a variable with the UF code (Unidade Federativa) where the UBS are located.\n",
    "    1. What are the UF codes present in the database?\n",
    "    2. What are the most frequent UF codes (the 5 most frequent) and how often do they occur?\n",
    "    3. How many cities are there in these 5 most frequent UFs?\n",
    "    \n",
    "    Note: The first two digits of the municipality code represent the UF.\n",
    "\n",
    "2. There is a fictitious date variable (`data_eq`) in the database created only for this selection process. Create a variable with the year extracted from that variable.\n",
    "    1. Show the distribution of records by year.\n",
    "\n",
    "3. Create a variable with the length of the phone field\n",
    "    1. What are the least frequent lengths (the 5 least frequent) of phone numbers?\n",
    "    2. How many records have a phone length other than 10? What is the percentage of this value considering the size of the database?\n",
    "    \n",
    "    Bonus Question: Is there information in the phone variable that does not correspond to a phone number? If so, remove this information.\n",
    "    \n",
    "4. How many records achieved an above or much above average performance regarding the status of the drugs? What is the percentage of this value considering the size of the database?\n",
    "\n",
    "5. How many records in Bahia (code 29) achieved an average performance in relation to the situation of the drugs and a performance above or much above the average in relation to the situation of the equipment? What is the percentage of this value considering the size of the database?\n",
    "\n",
    "6. How many records had the worst performance in all variables that measure performance situations? What is the percentage of this value considering the size of the database?\n",
    "\n",
    "\n",
    "## Data dictionary\n",
    "\n",
    "\n",
    "* cod_munic: `IBGE code, lenght: 7 characters.` \n",
    "* dsc_bairro: `Name of neighborhood.`\n",
    "* dsc_cidade: `Name of city.`\n",
    "* cod_cnes: `CNES code`\n",
    "* nom_estab: `Name of the establishment`\n",
    "* dsc_endereco: `Address of UBS`\n",
    "* dsc_estrut_fisic_ambiencia: `Situation-related to general structure`\n",
    "* dsc_adap_defic_fisic_idosos: `Situation-related to adaptations for the disabled and the elderly`\n",
    "* dsc_equipamentos: `Situation-related to equipament`\n",
    "* dsc_medicamentos: `Situation-related to medicine`\n",
    "* data_eq: `Date variable`"
   ]
  },
  {
   "cell_type": "code",
   "execution_count": 297,
   "metadata": {},
   "outputs": [],
   "source": [
    "import pandas as pd\n",
    "import numpy as np\n",
    "import matplotlib.pyplot as plt\n",
    "from IPython.display import display \n",
    "\n",
    "database = pd.read_csv('ubs.csv')"
   ]
  },
  {
   "source": [
    "# 1. Create a variable with the UF code (Unidade Federativa) where the UBS are located."
   ],
   "cell_type": "markdown",
   "metadata": {}
  },
  {
   "cell_type": "code",
   "execution_count": 298,
   "metadata": {},
   "outputs": [
    {
     "output_type": "display_data",
     "data": {
      "text/plain": "       vlr_latitude  vlr_longitude  cod_munic  cod_cnes  \\\n0        -10.911237     -37.062078     280030      3492   \n1         -9.485943     -35.857573     270770   6685315   \n2        -23.896000     -53.410000     411885   6811299   \n3        -16.447874     -41.009860     313580   6335616   \n4         -6.573311     -35.107605     250930   6662226   \n...             ...            ...        ...       ...   \n37685     -9.900699     -44.541235     220320   2490390   \n37686    -12.165245     -61.709883     110029   2744155   \n37687     -6.050892     -36.936722     240610   2475936   \n37688    -15.351741     -40.779233     292665   2509555   \n37689    -20.762959     -40.727520     320040   2678187   \n\n                                          nom_estab          dsc_endereco  \\\n0                               US OSWALDO DE SOUZA     TV ADALTO BOTELHO   \n1              USF ENFERMEIRO PEDRO JACINTO AREA 09        R 15 DE AGOSTO   \n2      UNIDADE DE ATENCAO PRIMARIA SAUDE DA FAMILIA  RUA GUILHERME BRUXEL   \n3             POSTO DE SAUDE DE BOM JESUS DA ALDEIA     RUA TEOFILO OTONI   \n4                                POSTO ANCORA URUBA      RODOVIA PB N 065   \n...                                             ...                   ...   \n37685                          PS DO ESPIRITO SANTO        ESPIRITO SANTO   \n37686         PS LINHA P 18 NOVA SANTA LUZIA DOESTE       LINHA P 18 NOVA   \n37687                         POSTO DE SAUDE ADEQUE          SITIO ADEQUE   \n37688                     POSTO DE SAUDE CAPINARANA    POVOADO CAPINARANA   \n37689                UNIDADE DE SAUDE DE SAO MATEUS            SAO MATEUS   \n\n           dsc_bairro           dsc_cidade   dsc_telefone  \\\n0      GETULIO VARGAS              Aracaju     7931791326   \n1              CENTRO            Rio Largo  Não se aplica   \n2              CENTRO              Perobal     4436251462   \n3              ALDEIA        Jequitinhonha     3337411423   \n4               SITIO             Mataraca  Não se aplica   \n...               ...                  ...            ...   \n37685             NaN             Curimatá  Não se aplica   \n37686             NaN  Santa Luzia D'Oeste  Não se aplica   \n37687             NaN             Jucurutu  Não se aplica   \n37688             NaN    Ribeirão do Largo   (77) 2291271   \n37689             NaN             Anchieta     2898842751   \n\n                            dsc_estrut_fisic_ambiencia  \\\n0                            Desempenho acima da média   \n1      Desempenho mediano ou  um pouco abaixo da média   \n2                      Desempenho muito acima da média   \n3      Desempenho mediano ou  um pouco abaixo da média   \n4                            Desempenho acima da média   \n...                                                ...   \n37685  Desempenho mediano ou  um pouco abaixo da média   \n37686  Desempenho mediano ou  um pouco abaixo da média   \n37687  Desempenho mediano ou  um pouco abaixo da média   \n37688  Desempenho mediano ou  um pouco abaixo da média   \n37689                        Desempenho acima da média   \n\n                           dsc_adap_defic_fisic_idosos  \\\n0                      Desempenho muito acima da média   \n1      Desempenho mediano ou  um pouco abaixo da média   \n2                      Desempenho muito acima da média   \n3                            Desempenho acima da média   \n4                            Desempenho acima da média   \n...                                                ...   \n37685  Desempenho mediano ou  um pouco abaixo da média   \n37686  Desempenho mediano ou  um pouco abaixo da média   \n37687  Desempenho mediano ou  um pouco abaixo da média   \n37688                        Desempenho acima da média   \n37689  Desempenho mediano ou  um pouco abaixo da média   \n\n                                      dsc_equipamentos  \\\n0      Desempenho mediano ou  um pouco abaixo da média   \n1      Desempenho mediano ou  um pouco abaixo da média   \n2      Desempenho mediano ou  um pouco abaixo da média   \n3      Desempenho mediano ou  um pouco abaixo da média   \n4      Desempenho mediano ou  um pouco abaixo da média   \n...                                                ...   \n37685  Desempenho mediano ou  um pouco abaixo da média   \n37686  Desempenho mediano ou  um pouco abaixo da média   \n37687  Desempenho mediano ou  um pouco abaixo da média   \n37688  Desempenho mediano ou  um pouco abaixo da média   \n37689  Desempenho mediano ou  um pouco abaixo da média   \n\n                                      dsc_medicamentos     data_eq  UF  \n0                            Desempenho acima da média  2017-06-15  28  \n1      Desempenho mediano ou  um pouco abaixo da média  2016-07-18  27  \n2                      Desempenho muito acima da média  2017-09-11  41  \n3      Desempenho mediano ou  um pouco abaixo da média  2017-02-28  31  \n4      Desempenho mediano ou  um pouco abaixo da média  2018-06-04  25  \n...                                                ...         ...  ..  \n37685  Desempenho mediano ou  um pouco abaixo da média  2018-02-22  22  \n37686  Desempenho mediano ou  um pouco abaixo da média  2017-02-14  11  \n37687  Desempenho mediano ou  um pouco abaixo da média  2018-02-09  24  \n37688                        Desempenho acima da média  2016-02-11  29  \n37689                        Desempenho acima da média  2016-02-03  32  \n\n[37690 rows x 15 columns]",
      "text/html": "<div>\n<style scoped>\n    .dataframe tbody tr th:only-of-type {\n        vertical-align: middle;\n    }\n\n    .dataframe tbody tr th {\n        vertical-align: top;\n    }\n\n    .dataframe thead th {\n        text-align: right;\n    }\n</style>\n<table border=\"1\" class=\"dataframe\">\n  <thead>\n    <tr style=\"text-align: right;\">\n      <th></th>\n      <th>vlr_latitude</th>\n      <th>vlr_longitude</th>\n      <th>cod_munic</th>\n      <th>cod_cnes</th>\n      <th>nom_estab</th>\n      <th>dsc_endereco</th>\n      <th>dsc_bairro</th>\n      <th>dsc_cidade</th>\n      <th>dsc_telefone</th>\n      <th>dsc_estrut_fisic_ambiencia</th>\n      <th>dsc_adap_defic_fisic_idosos</th>\n      <th>dsc_equipamentos</th>\n      <th>dsc_medicamentos</th>\n      <th>data_eq</th>\n      <th>UF</th>\n    </tr>\n  </thead>\n  <tbody>\n    <tr>\n      <th>0</th>\n      <td>-10.911237</td>\n      <td>-37.062078</td>\n      <td>280030</td>\n      <td>3492</td>\n      <td>US OSWALDO DE SOUZA</td>\n      <td>TV ADALTO BOTELHO</td>\n      <td>GETULIO VARGAS</td>\n      <td>Aracaju</td>\n      <td>7931791326</td>\n      <td>Desempenho acima da média</td>\n      <td>Desempenho muito acima da média</td>\n      <td>Desempenho mediano ou  um pouco abaixo da média</td>\n      <td>Desempenho acima da média</td>\n      <td>2017-06-15</td>\n      <td>28</td>\n    </tr>\n    <tr>\n      <th>1</th>\n      <td>-9.485943</td>\n      <td>-35.857573</td>\n      <td>270770</td>\n      <td>6685315</td>\n      <td>USF ENFERMEIRO PEDRO JACINTO AREA 09</td>\n      <td>R 15 DE AGOSTO</td>\n      <td>CENTRO</td>\n      <td>Rio Largo</td>\n      <td>Não se aplica</td>\n      <td>Desempenho mediano ou  um pouco abaixo da média</td>\n      <td>Desempenho mediano ou  um pouco abaixo da média</td>\n      <td>Desempenho mediano ou  um pouco abaixo da média</td>\n      <td>Desempenho mediano ou  um pouco abaixo da média</td>\n      <td>2016-07-18</td>\n      <td>27</td>\n    </tr>\n    <tr>\n      <th>2</th>\n      <td>-23.896000</td>\n      <td>-53.410000</td>\n      <td>411885</td>\n      <td>6811299</td>\n      <td>UNIDADE DE ATENCAO PRIMARIA SAUDE DA FAMILIA</td>\n      <td>RUA GUILHERME BRUXEL</td>\n      <td>CENTRO</td>\n      <td>Perobal</td>\n      <td>4436251462</td>\n      <td>Desempenho muito acima da média</td>\n      <td>Desempenho muito acima da média</td>\n      <td>Desempenho mediano ou  um pouco abaixo da média</td>\n      <td>Desempenho muito acima da média</td>\n      <td>2017-09-11</td>\n      <td>41</td>\n    </tr>\n    <tr>\n      <th>3</th>\n      <td>-16.447874</td>\n      <td>-41.009860</td>\n      <td>313580</td>\n      <td>6335616</td>\n      <td>POSTO DE SAUDE DE BOM JESUS DA ALDEIA</td>\n      <td>RUA TEOFILO OTONI</td>\n      <td>ALDEIA</td>\n      <td>Jequitinhonha</td>\n      <td>3337411423</td>\n      <td>Desempenho mediano ou  um pouco abaixo da média</td>\n      <td>Desempenho acima da média</td>\n      <td>Desempenho mediano ou  um pouco abaixo da média</td>\n      <td>Desempenho mediano ou  um pouco abaixo da média</td>\n      <td>2017-02-28</td>\n      <td>31</td>\n    </tr>\n    <tr>\n      <th>4</th>\n      <td>-6.573311</td>\n      <td>-35.107605</td>\n      <td>250930</td>\n      <td>6662226</td>\n      <td>POSTO ANCORA URUBA</td>\n      <td>RODOVIA PB N 065</td>\n      <td>SITIO</td>\n      <td>Mataraca</td>\n      <td>Não se aplica</td>\n      <td>Desempenho acima da média</td>\n      <td>Desempenho acima da média</td>\n      <td>Desempenho mediano ou  um pouco abaixo da média</td>\n      <td>Desempenho mediano ou  um pouco abaixo da média</td>\n      <td>2018-06-04</td>\n      <td>25</td>\n    </tr>\n    <tr>\n      <th>...</th>\n      <td>...</td>\n      <td>...</td>\n      <td>...</td>\n      <td>...</td>\n      <td>...</td>\n      <td>...</td>\n      <td>...</td>\n      <td>...</td>\n      <td>...</td>\n      <td>...</td>\n      <td>...</td>\n      <td>...</td>\n      <td>...</td>\n      <td>...</td>\n      <td>...</td>\n    </tr>\n    <tr>\n      <th>37685</th>\n      <td>-9.900699</td>\n      <td>-44.541235</td>\n      <td>220320</td>\n      <td>2490390</td>\n      <td>PS DO ESPIRITO SANTO</td>\n      <td>ESPIRITO SANTO</td>\n      <td>NaN</td>\n      <td>Curimatá</td>\n      <td>Não se aplica</td>\n      <td>Desempenho mediano ou  um pouco abaixo da média</td>\n      <td>Desempenho mediano ou  um pouco abaixo da média</td>\n      <td>Desempenho mediano ou  um pouco abaixo da média</td>\n      <td>Desempenho mediano ou  um pouco abaixo da média</td>\n      <td>2018-02-22</td>\n      <td>22</td>\n    </tr>\n    <tr>\n      <th>37686</th>\n      <td>-12.165245</td>\n      <td>-61.709883</td>\n      <td>110029</td>\n      <td>2744155</td>\n      <td>PS LINHA P 18 NOVA SANTA LUZIA DOESTE</td>\n      <td>LINHA P 18 NOVA</td>\n      <td>NaN</td>\n      <td>Santa Luzia D'Oeste</td>\n      <td>Não se aplica</td>\n      <td>Desempenho mediano ou  um pouco abaixo da média</td>\n      <td>Desempenho mediano ou  um pouco abaixo da média</td>\n      <td>Desempenho mediano ou  um pouco abaixo da média</td>\n      <td>Desempenho mediano ou  um pouco abaixo da média</td>\n      <td>2017-02-14</td>\n      <td>11</td>\n    </tr>\n    <tr>\n      <th>37687</th>\n      <td>-6.050892</td>\n      <td>-36.936722</td>\n      <td>240610</td>\n      <td>2475936</td>\n      <td>POSTO DE SAUDE ADEQUE</td>\n      <td>SITIO ADEQUE</td>\n      <td>NaN</td>\n      <td>Jucurutu</td>\n      <td>Não se aplica</td>\n      <td>Desempenho mediano ou  um pouco abaixo da média</td>\n      <td>Desempenho mediano ou  um pouco abaixo da média</td>\n      <td>Desempenho mediano ou  um pouco abaixo da média</td>\n      <td>Desempenho mediano ou  um pouco abaixo da média</td>\n      <td>2018-02-09</td>\n      <td>24</td>\n    </tr>\n    <tr>\n      <th>37688</th>\n      <td>-15.351741</td>\n      <td>-40.779233</td>\n      <td>292665</td>\n      <td>2509555</td>\n      <td>POSTO DE SAUDE CAPINARANA</td>\n      <td>POVOADO CAPINARANA</td>\n      <td>NaN</td>\n      <td>Ribeirão do Largo</td>\n      <td>(77) 2291271</td>\n      <td>Desempenho mediano ou  um pouco abaixo da média</td>\n      <td>Desempenho acima da média</td>\n      <td>Desempenho mediano ou  um pouco abaixo da média</td>\n      <td>Desempenho acima da média</td>\n      <td>2016-02-11</td>\n      <td>29</td>\n    </tr>\n    <tr>\n      <th>37689</th>\n      <td>-20.762959</td>\n      <td>-40.727520</td>\n      <td>320040</td>\n      <td>2678187</td>\n      <td>UNIDADE DE SAUDE DE SAO MATEUS</td>\n      <td>SAO MATEUS</td>\n      <td>NaN</td>\n      <td>Anchieta</td>\n      <td>2898842751</td>\n      <td>Desempenho acima da média</td>\n      <td>Desempenho mediano ou  um pouco abaixo da média</td>\n      <td>Desempenho mediano ou  um pouco abaixo da média</td>\n      <td>Desempenho acima da média</td>\n      <td>2016-02-03</td>\n      <td>32</td>\n    </tr>\n  </tbody>\n</table>\n<p>37690 rows × 15 columns</p>\n</div>"
     },
     "metadata": {}
    }
   ],
   "source": [
    "UF = database['cod_munic'].astype(str)\n",
    "UF = UF.str[:2]\n",
    "database['UF'] = UF\n",
    "display(database)"
   ]
  },
  {
   "source": [
    "# What are the UF codes present in the database?"
   ],
   "cell_type": "markdown",
   "metadata": {}
  },
  {
   "cell_type": "code",
   "execution_count": 299,
   "metadata": {},
   "outputs": [
    {
     "output_type": "display_data",
     "data": {
      "text/plain": "    UF\n0   28\n1   27\n2   41\n3   31\n4   25\n5   23\n6   21\n7   13\n8   51\n9   52\n10  42\n11  43\n12  29\n13  26\n14  33\n15  17\n16  11\n17  24\n18  50\n19  22\n20  14\n21  35\n22  15\n23  16\n24  32\n25  12\n26  53",
      "text/html": "<div>\n<style scoped>\n    .dataframe tbody tr th:only-of-type {\n        vertical-align: middle;\n    }\n\n    .dataframe tbody tr th {\n        vertical-align: top;\n    }\n\n    .dataframe thead th {\n        text-align: right;\n    }\n</style>\n<table border=\"1\" class=\"dataframe\">\n  <thead>\n    <tr style=\"text-align: right;\">\n      <th></th>\n      <th>UF</th>\n    </tr>\n  </thead>\n  <tbody>\n    <tr>\n      <th>0</th>\n      <td>28</td>\n    </tr>\n    <tr>\n      <th>1</th>\n      <td>27</td>\n    </tr>\n    <tr>\n      <th>2</th>\n      <td>41</td>\n    </tr>\n    <tr>\n      <th>3</th>\n      <td>31</td>\n    </tr>\n    <tr>\n      <th>4</th>\n      <td>25</td>\n    </tr>\n    <tr>\n      <th>5</th>\n      <td>23</td>\n    </tr>\n    <tr>\n      <th>6</th>\n      <td>21</td>\n    </tr>\n    <tr>\n      <th>7</th>\n      <td>13</td>\n    </tr>\n    <tr>\n      <th>8</th>\n      <td>51</td>\n    </tr>\n    <tr>\n      <th>9</th>\n      <td>52</td>\n    </tr>\n    <tr>\n      <th>10</th>\n      <td>42</td>\n    </tr>\n    <tr>\n      <th>11</th>\n      <td>43</td>\n    </tr>\n    <tr>\n      <th>12</th>\n      <td>29</td>\n    </tr>\n    <tr>\n      <th>13</th>\n      <td>26</td>\n    </tr>\n    <tr>\n      <th>14</th>\n      <td>33</td>\n    </tr>\n    <tr>\n      <th>15</th>\n      <td>17</td>\n    </tr>\n    <tr>\n      <th>16</th>\n      <td>11</td>\n    </tr>\n    <tr>\n      <th>17</th>\n      <td>24</td>\n    </tr>\n    <tr>\n      <th>18</th>\n      <td>50</td>\n    </tr>\n    <tr>\n      <th>19</th>\n      <td>22</td>\n    </tr>\n    <tr>\n      <th>20</th>\n      <td>14</td>\n    </tr>\n    <tr>\n      <th>21</th>\n      <td>35</td>\n    </tr>\n    <tr>\n      <th>22</th>\n      <td>15</td>\n    </tr>\n    <tr>\n      <th>23</th>\n      <td>16</td>\n    </tr>\n    <tr>\n      <th>24</th>\n      <td>32</td>\n    </tr>\n    <tr>\n      <th>25</th>\n      <td>12</td>\n    </tr>\n    <tr>\n      <th>26</th>\n      <td>53</td>\n    </tr>\n  </tbody>\n</table>\n</div>"
     },
     "metadata": {}
    }
   ],
   "source": [
    "uf_codes = pd.DataFrame(pd.unique(database['UF']))\n",
    "uf_codes.columns = ['UF']\n",
    "display(uf_codes)"
   ]
  },
  {
   "source": [
    "# What are the most frequent UF codes (the 5 most frequent) and how often do they occur?"
   ],
   "cell_type": "markdown",
   "metadata": {}
  },
  {
   "cell_type": "code",
   "execution_count": 300,
   "metadata": {},
   "outputs": [
    {
     "output_type": "display_data",
     "data": {
      "text/plain": "    Frequency  UF\n31       4859  31\n35       4169  35\n29       3571  29\n41       2408  41\n43       2225  43",
      "text/html": "<div>\n<style scoped>\n    .dataframe tbody tr th:only-of-type {\n        vertical-align: middle;\n    }\n\n    .dataframe tbody tr th {\n        vertical-align: top;\n    }\n\n    .dataframe thead th {\n        text-align: right;\n    }\n</style>\n<table border=\"1\" class=\"dataframe\">\n  <thead>\n    <tr style=\"text-align: right;\">\n      <th></th>\n      <th>Frequency</th>\n      <th>UF</th>\n    </tr>\n  </thead>\n  <tbody>\n    <tr>\n      <th>31</th>\n      <td>4859</td>\n      <td>31</td>\n    </tr>\n    <tr>\n      <th>35</th>\n      <td>4169</td>\n      <td>35</td>\n    </tr>\n    <tr>\n      <th>29</th>\n      <td>3571</td>\n      <td>29</td>\n    </tr>\n    <tr>\n      <th>41</th>\n      <td>2408</td>\n      <td>41</td>\n    </tr>\n    <tr>\n      <th>43</th>\n      <td>2225</td>\n      <td>43</td>\n    </tr>\n  </tbody>\n</table>\n</div>"
     },
     "metadata": {}
    }
   ],
   "source": [
    "most_freqUF = pd.DataFrame(pd.value_counts(database['UF']).head(5))\n",
    "most_freqUF.columns = ['Frequency']\n",
    "most_freqUF['UF'] = most_freqUF.index\n",
    "display(most_freqUF)"
   ]
  },
  {
   "source": [
    "# How many cities are there in these 5 most frequent UFs?"
   ],
   "cell_type": "markdown",
   "metadata": {}
  },
  {
   "cell_type": "code",
   "execution_count": 301,
   "metadata": {},
   "outputs": [
    {
     "output_type": "execute_result",
     "data": {
      "text/plain": [
       "    cod_munic  UF\n",
       "UF               \n",
       "29        417  29\n",
       "31        849  31\n",
       "35        643  35\n",
       "41        398  41\n",
       "43        493  43"
      ],
      "text/html": "<div>\n<style scoped>\n    .dataframe tbody tr th:only-of-type {\n        vertical-align: middle;\n    }\n\n    .dataframe tbody tr th {\n        vertical-align: top;\n    }\n\n    .dataframe thead th {\n        text-align: right;\n    }\n</style>\n<table border=\"1\" class=\"dataframe\">\n  <thead>\n    <tr style=\"text-align: right;\">\n      <th></th>\n      <th>cod_munic</th>\n      <th>UF</th>\n    </tr>\n    <tr>\n      <th>UF</th>\n      <th></th>\n      <th></th>\n    </tr>\n  </thead>\n  <tbody>\n    <tr>\n      <th>29</th>\n      <td>417</td>\n      <td>29</td>\n    </tr>\n    <tr>\n      <th>31</th>\n      <td>849</td>\n      <td>31</td>\n    </tr>\n    <tr>\n      <th>35</th>\n      <td>643</td>\n      <td>35</td>\n    </tr>\n    <tr>\n      <th>41</th>\n      <td>398</td>\n      <td>41</td>\n    </tr>\n    <tr>\n      <th>43</th>\n      <td>493</td>\n      <td>43</td>\n    </tr>\n  </tbody>\n</table>\n</div>"
     },
     "metadata": {},
     "execution_count": 301
    }
   ],
   "source": [
    "#Organizar por UF e contar os valores únicos de municípios\n",
    "UF_group = database.groupby('UF')['cod_munic'].nunique()\n",
    "#Usar DF\n",
    "UF_group = pd.DataFrame(UF_group)\n",
    "UF_group['UF'] = UF_group.index\n",
    "\n",
    "#Comparar UF agrupado com UF mais frequente\n",
    "UF_group.query(\"UF in %s\" % most_freqUF['UF'].values.tolist())\n"
   ]
  },
  {
   "source": [
    "# 2. There is a fictitious date variable (`data_eq`) in the database created only for this selection process. Create a variable with the year extracted from that variable.\n"
   ],
   "cell_type": "markdown",
   "metadata": {}
  },
  {
   "source": [
    "database['year'] = database['data_eq'].str[:4]"
   ],
   "cell_type": "code",
   "metadata": {},
   "execution_count": 302,
   "outputs": []
  },
  {
   "source": [
    "# Show the distribution of records by year."
   ],
   "cell_type": "markdown",
   "metadata": {}
  },
  {
   "cell_type": "code",
   "execution_count": 303,
   "metadata": {},
   "outputs": [
    {
     "output_type": "display_data",
     "data": {
      "text/plain": "      records  year\n2018    12611  2018\n2017    12551  2017\n2016    12528  2016",
      "text/html": "<div>\n<style scoped>\n    .dataframe tbody tr th:only-of-type {\n        vertical-align: middle;\n    }\n\n    .dataframe tbody tr th {\n        vertical-align: top;\n    }\n\n    .dataframe thead th {\n        text-align: right;\n    }\n</style>\n<table border=\"1\" class=\"dataframe\">\n  <thead>\n    <tr style=\"text-align: right;\">\n      <th></th>\n      <th>records</th>\n      <th>year</th>\n    </tr>\n  </thead>\n  <tbody>\n    <tr>\n      <th>2018</th>\n      <td>12611</td>\n      <td>2018</td>\n    </tr>\n    <tr>\n      <th>2017</th>\n      <td>12551</td>\n      <td>2017</td>\n    </tr>\n    <tr>\n      <th>2016</th>\n      <td>12528</td>\n      <td>2016</td>\n    </tr>\n  </tbody>\n</table>\n</div>"
     },
     "metadata": {}
    },
    {
     "output_type": "display_data",
     "data": {
      "text/plain": "<Figure size 432x288 with 1 Axes>",
      "image/svg+xml": "<?xml version=\"1.0\" encoding=\"utf-8\" standalone=\"no\"?>\r\n<!DOCTYPE svg PUBLIC \"-//W3C//DTD SVG 1.1//EN\"\r\n  \"http://www.w3.org/Graphics/SVG/1.1/DTD/svg11.dtd\">\r\n<!-- Created with matplotlib (https://matplotlib.org/) -->\r\n<svg height=\"281.767344pt\" version=\"1.1\" viewBox=\"0 0 388.0125 281.767344\" width=\"388.0125pt\" xmlns=\"http://www.w3.org/2000/svg\" xmlns:xlink=\"http://www.w3.org/1999/xlink\">\r\n <defs>\r\n  <style type=\"text/css\">\r\n*{stroke-linecap:butt;stroke-linejoin:round;}\r\n  </style>\r\n </defs>\r\n <g id=\"figure_1\">\r\n  <g id=\"patch_1\">\r\n   <path d=\"M 0 281.767344 \r\nL 388.0125 281.767344 \r\nL 388.0125 0 \r\nL 0 0 \r\nz\r\n\" style=\"fill:none;\"/>\r\n  </g>\r\n  <g id=\"axes_1\">\r\n   <g id=\"patch_2\">\r\n    <path d=\"M 46.0125 228.439219 \r\nL 380.8125 228.439219 \r\nL 380.8125 10.999219 \r\nL 46.0125 10.999219 \r\nz\r\n\" style=\"fill:#ffffff;\"/>\r\n   </g>\r\n   <g id=\"patch_3\">\r\n    <path clip-path=\"url(#pcc389930a2)\" d=\"M 73.9125 13818.439219 \r\nL 129.7125 13818.439219 \r\nL 129.7125 107.760019 \r\nL 73.9125 107.760019 \r\nz\r\n\" style=\"fill:#1f77b4;\"/>\r\n   </g>\r\n   <g id=\"patch_4\">\r\n    <path clip-path=\"url(#pcc389930a2)\" d=\"M 185.5125 13818.439219 \r\nL 241.3125 13818.439219 \r\nL 241.3125 172.992019 \r\nL 185.5125 172.992019 \r\nz\r\n\" style=\"fill:#1f77b4;\"/>\r\n   </g>\r\n   <g id=\"patch_5\">\r\n    <path clip-path=\"url(#pcc389930a2)\" d=\"M 297.1125 13818.439219 \r\nL 352.9125 13818.439219 \r\nL 352.9125 197.997619 \r\nL 297.1125 197.997619 \r\nz\r\n\" style=\"fill:#1f77b4;\"/>\r\n   </g>\r\n   <g id=\"matplotlib.axis_1\">\r\n    <g id=\"xtick_1\">\r\n     <g id=\"line2d_1\">\r\n      <defs>\r\n       <path d=\"M 0 0 \r\nL 0 3.5 \r\n\" id=\"m18bc85ae3f\" style=\"stroke:#000000;stroke-width:0.8;\"/>\r\n      </defs>\r\n      <g>\r\n       <use style=\"stroke:#000000;stroke-width:0.8;\" x=\"101.8125\" xlink:href=\"#m18bc85ae3f\" y=\"228.439219\"/>\r\n      </g>\r\n     </g>\r\n     <g id=\"text_1\">\r\n      <!-- 2018 -->\r\n      <defs>\r\n       <path d=\"M 19.1875 8.296875 \r\nL 53.609375 8.296875 \r\nL 53.609375 0 \r\nL 7.328125 0 \r\nL 7.328125 8.296875 \r\nQ 12.9375 14.109375 22.625 23.890625 \r\nQ 32.328125 33.6875 34.8125 36.53125 \r\nQ 39.546875 41.84375 41.421875 45.53125 \r\nQ 43.3125 49.21875 43.3125 52.78125 \r\nQ 43.3125 58.59375 39.234375 62.25 \r\nQ 35.15625 65.921875 28.609375 65.921875 \r\nQ 23.96875 65.921875 18.8125 64.3125 \r\nQ 13.671875 62.703125 7.8125 59.421875 \r\nL 7.8125 69.390625 \r\nQ 13.765625 71.78125 18.9375 73 \r\nQ 24.125 74.21875 28.421875 74.21875 \r\nQ 39.75 74.21875 46.484375 68.546875 \r\nQ 53.21875 62.890625 53.21875 53.421875 \r\nQ 53.21875 48.921875 51.53125 44.890625 \r\nQ 49.859375 40.875 45.40625 35.40625 \r\nQ 44.1875 33.984375 37.640625 27.21875 \r\nQ 31.109375 20.453125 19.1875 8.296875 \r\nz\r\n\" id=\"DejaVuSans-50\"/>\r\n       <path d=\"M 31.78125 66.40625 \r\nQ 24.171875 66.40625 20.328125 58.90625 \r\nQ 16.5 51.421875 16.5 36.375 \r\nQ 16.5 21.390625 20.328125 13.890625 \r\nQ 24.171875 6.390625 31.78125 6.390625 \r\nQ 39.453125 6.390625 43.28125 13.890625 \r\nQ 47.125 21.390625 47.125 36.375 \r\nQ 47.125 51.421875 43.28125 58.90625 \r\nQ 39.453125 66.40625 31.78125 66.40625 \r\nz\r\nM 31.78125 74.21875 \r\nQ 44.046875 74.21875 50.515625 64.515625 \r\nQ 56.984375 54.828125 56.984375 36.375 \r\nQ 56.984375 17.96875 50.515625 8.265625 \r\nQ 44.046875 -1.421875 31.78125 -1.421875 \r\nQ 19.53125 -1.421875 13.0625 8.265625 \r\nQ 6.59375 17.96875 6.59375 36.375 \r\nQ 6.59375 54.828125 13.0625 64.515625 \r\nQ 19.53125 74.21875 31.78125 74.21875 \r\nz\r\n\" id=\"DejaVuSans-48\"/>\r\n       <path d=\"M 12.40625 8.296875 \r\nL 28.515625 8.296875 \r\nL 28.515625 63.921875 \r\nL 10.984375 60.40625 \r\nL 10.984375 69.390625 \r\nL 28.421875 72.90625 \r\nL 38.28125 72.90625 \r\nL 38.28125 8.296875 \r\nL 54.390625 8.296875 \r\nL 54.390625 0 \r\nL 12.40625 0 \r\nz\r\n\" id=\"DejaVuSans-49\"/>\r\n       <path d=\"M 31.78125 34.625 \r\nQ 24.75 34.625 20.71875 30.859375 \r\nQ 16.703125 27.09375 16.703125 20.515625 \r\nQ 16.703125 13.921875 20.71875 10.15625 \r\nQ 24.75 6.390625 31.78125 6.390625 \r\nQ 38.8125 6.390625 42.859375 10.171875 \r\nQ 46.921875 13.96875 46.921875 20.515625 \r\nQ 46.921875 27.09375 42.890625 30.859375 \r\nQ 38.875 34.625 31.78125 34.625 \r\nz\r\nM 21.921875 38.8125 \r\nQ 15.578125 40.375 12.03125 44.71875 \r\nQ 8.5 49.078125 8.5 55.328125 \r\nQ 8.5 64.0625 14.71875 69.140625 \r\nQ 20.953125 74.21875 31.78125 74.21875 \r\nQ 42.671875 74.21875 48.875 69.140625 \r\nQ 55.078125 64.0625 55.078125 55.328125 \r\nQ 55.078125 49.078125 51.53125 44.71875 \r\nQ 48 40.375 41.703125 38.8125 \r\nQ 48.828125 37.15625 52.796875 32.3125 \r\nQ 56.78125 27.484375 56.78125 20.515625 \r\nQ 56.78125 9.90625 50.3125 4.234375 \r\nQ 43.84375 -1.421875 31.78125 -1.421875 \r\nQ 19.734375 -1.421875 13.25 4.234375 \r\nQ 6.78125 9.90625 6.78125 20.515625 \r\nQ 6.78125 27.484375 10.78125 32.3125 \r\nQ 14.796875 37.15625 21.921875 38.8125 \r\nz\r\nM 18.3125 54.390625 \r\nQ 18.3125 48.734375 21.84375 45.5625 \r\nQ 25.390625 42.390625 31.78125 42.390625 \r\nQ 38.140625 42.390625 41.71875 45.5625 \r\nQ 45.3125 48.734375 45.3125 54.390625 \r\nQ 45.3125 60.0625 41.71875 63.234375 \r\nQ 38.140625 66.40625 31.78125 66.40625 \r\nQ 25.390625 66.40625 21.84375 63.234375 \r\nQ 18.3125 60.0625 18.3125 54.390625 \r\nz\r\n\" id=\"DejaVuSans-56\"/>\r\n      </defs>\r\n      <g transform=\"translate(104.571875 260.889219)rotate(-90)scale(0.1 -0.1)\">\r\n       <use xlink:href=\"#DejaVuSans-50\"/>\r\n       <use x=\"63.623047\" xlink:href=\"#DejaVuSans-48\"/>\r\n       <use x=\"127.246094\" xlink:href=\"#DejaVuSans-49\"/>\r\n       <use x=\"190.869141\" xlink:href=\"#DejaVuSans-56\"/>\r\n      </g>\r\n     </g>\r\n    </g>\r\n    <g id=\"xtick_2\">\r\n     <g id=\"line2d_2\">\r\n      <g>\r\n       <use style=\"stroke:#000000;stroke-width:0.8;\" x=\"213.4125\" xlink:href=\"#m18bc85ae3f\" y=\"228.439219\"/>\r\n      </g>\r\n     </g>\r\n     <g id=\"text_2\">\r\n      <!-- 2017 -->\r\n      <defs>\r\n       <path d=\"M 8.203125 72.90625 \r\nL 55.078125 72.90625 \r\nL 55.078125 68.703125 \r\nL 28.609375 0 \r\nL 18.3125 0 \r\nL 43.21875 64.59375 \r\nL 8.203125 64.59375 \r\nz\r\n\" id=\"DejaVuSans-55\"/>\r\n      </defs>\r\n      <g transform=\"translate(216.171875 260.889219)rotate(-90)scale(0.1 -0.1)\">\r\n       <use xlink:href=\"#DejaVuSans-50\"/>\r\n       <use x=\"63.623047\" xlink:href=\"#DejaVuSans-48\"/>\r\n       <use x=\"127.246094\" xlink:href=\"#DejaVuSans-49\"/>\r\n       <use x=\"190.869141\" xlink:href=\"#DejaVuSans-55\"/>\r\n      </g>\r\n     </g>\r\n    </g>\r\n    <g id=\"xtick_3\">\r\n     <g id=\"line2d_3\">\r\n      <g>\r\n       <use style=\"stroke:#000000;stroke-width:0.8;\" x=\"325.0125\" xlink:href=\"#m18bc85ae3f\" y=\"228.439219\"/>\r\n      </g>\r\n     </g>\r\n     <g id=\"text_3\">\r\n      <!-- 2016 -->\r\n      <defs>\r\n       <path d=\"M 33.015625 40.375 \r\nQ 26.375 40.375 22.484375 35.828125 \r\nQ 18.609375 31.296875 18.609375 23.390625 \r\nQ 18.609375 15.53125 22.484375 10.953125 \r\nQ 26.375 6.390625 33.015625 6.390625 \r\nQ 39.65625 6.390625 43.53125 10.953125 \r\nQ 47.40625 15.53125 47.40625 23.390625 \r\nQ 47.40625 31.296875 43.53125 35.828125 \r\nQ 39.65625 40.375 33.015625 40.375 \r\nz\r\nM 52.59375 71.296875 \r\nL 52.59375 62.3125 \r\nQ 48.875 64.0625 45.09375 64.984375 \r\nQ 41.3125 65.921875 37.59375 65.921875 \r\nQ 27.828125 65.921875 22.671875 59.328125 \r\nQ 17.53125 52.734375 16.796875 39.40625 \r\nQ 19.671875 43.65625 24.015625 45.921875 \r\nQ 28.375 48.1875 33.59375 48.1875 \r\nQ 44.578125 48.1875 50.953125 41.515625 \r\nQ 57.328125 34.859375 57.328125 23.390625 \r\nQ 57.328125 12.15625 50.6875 5.359375 \r\nQ 44.046875 -1.421875 33.015625 -1.421875 \r\nQ 20.359375 -1.421875 13.671875 8.265625 \r\nQ 6.984375 17.96875 6.984375 36.375 \r\nQ 6.984375 53.65625 15.1875 63.9375 \r\nQ 23.390625 74.21875 37.203125 74.21875 \r\nQ 40.921875 74.21875 44.703125 73.484375 \r\nQ 48.484375 72.75 52.59375 71.296875 \r\nz\r\n\" id=\"DejaVuSans-54\"/>\r\n      </defs>\r\n      <g transform=\"translate(327.771875 260.889219)rotate(-90)scale(0.1 -0.1)\">\r\n       <use xlink:href=\"#DejaVuSans-50\"/>\r\n       <use x=\"63.623047\" xlink:href=\"#DejaVuSans-48\"/>\r\n       <use x=\"127.246094\" xlink:href=\"#DejaVuSans-49\"/>\r\n       <use x=\"190.869141\" xlink:href=\"#DejaVuSans-54\"/>\r\n      </g>\r\n     </g>\r\n    </g>\r\n    <g id=\"text_4\">\r\n     <!-- year -->\r\n     <defs>\r\n      <path d=\"M 32.171875 -5.078125 \r\nQ 28.375 -14.84375 24.75 -17.8125 \r\nQ 21.140625 -20.796875 15.09375 -20.796875 \r\nL 7.90625 -20.796875 \r\nL 7.90625 -13.28125 \r\nL 13.1875 -13.28125 \r\nQ 16.890625 -13.28125 18.9375 -11.515625 \r\nQ 21 -9.765625 23.484375 -3.21875 \r\nL 25.09375 0.875 \r\nL 2.984375 54.6875 \r\nL 12.5 54.6875 \r\nL 29.59375 11.921875 \r\nL 46.6875 54.6875 \r\nL 56.203125 54.6875 \r\nz\r\n\" id=\"DejaVuSans-121\"/>\r\n      <path d=\"M 56.203125 29.59375 \r\nL 56.203125 25.203125 \r\nL 14.890625 25.203125 \r\nQ 15.484375 15.921875 20.484375 11.0625 \r\nQ 25.484375 6.203125 34.421875 6.203125 \r\nQ 39.59375 6.203125 44.453125 7.46875 \r\nQ 49.3125 8.734375 54.109375 11.28125 \r\nL 54.109375 2.78125 \r\nQ 49.265625 0.734375 44.1875 -0.34375 \r\nQ 39.109375 -1.421875 33.890625 -1.421875 \r\nQ 20.796875 -1.421875 13.15625 6.1875 \r\nQ 5.515625 13.8125 5.515625 26.8125 \r\nQ 5.515625 40.234375 12.765625 48.109375 \r\nQ 20.015625 56 32.328125 56 \r\nQ 43.359375 56 49.78125 48.890625 \r\nQ 56.203125 41.796875 56.203125 29.59375 \r\nz\r\nM 47.21875 32.234375 \r\nQ 47.125 39.59375 43.09375 43.984375 \r\nQ 39.0625 48.390625 32.421875 48.390625 \r\nQ 24.90625 48.390625 20.390625 44.140625 \r\nQ 15.875 39.890625 15.1875 32.171875 \r\nz\r\n\" id=\"DejaVuSans-101\"/>\r\n      <path d=\"M 34.28125 27.484375 \r\nQ 23.390625 27.484375 19.1875 25 \r\nQ 14.984375 22.515625 14.984375 16.5 \r\nQ 14.984375 11.71875 18.140625 8.90625 \r\nQ 21.296875 6.109375 26.703125 6.109375 \r\nQ 34.1875 6.109375 38.703125 11.40625 \r\nQ 43.21875 16.703125 43.21875 25.484375 \r\nL 43.21875 27.484375 \r\nz\r\nM 52.203125 31.203125 \r\nL 52.203125 0 \r\nL 43.21875 0 \r\nL 43.21875 8.296875 \r\nQ 40.140625 3.328125 35.546875 0.953125 \r\nQ 30.953125 -1.421875 24.3125 -1.421875 \r\nQ 15.921875 -1.421875 10.953125 3.296875 \r\nQ 6 8.015625 6 15.921875 \r\nQ 6 25.140625 12.171875 29.828125 \r\nQ 18.359375 34.515625 30.609375 34.515625 \r\nL 43.21875 34.515625 \r\nL 43.21875 35.40625 \r\nQ 43.21875 41.609375 39.140625 45 \r\nQ 35.0625 48.390625 27.6875 48.390625 \r\nQ 23 48.390625 18.546875 47.265625 \r\nQ 14.109375 46.140625 10.015625 43.890625 \r\nL 10.015625 52.203125 \r\nQ 14.9375 54.109375 19.578125 55.046875 \r\nQ 24.21875 56 28.609375 56 \r\nQ 40.484375 56 46.34375 49.84375 \r\nQ 52.203125 43.703125 52.203125 31.203125 \r\nz\r\n\" id=\"DejaVuSans-97\"/>\r\n      <path d=\"M 41.109375 46.296875 \r\nQ 39.59375 47.171875 37.8125 47.578125 \r\nQ 36.03125 48 33.890625 48 \r\nQ 26.265625 48 22.1875 43.046875 \r\nQ 18.109375 38.09375 18.109375 28.8125 \r\nL 18.109375 0 \r\nL 9.078125 0 \r\nL 9.078125 54.6875 \r\nL 18.109375 54.6875 \r\nL 18.109375 46.1875 \r\nQ 20.953125 51.171875 25.484375 53.578125 \r\nQ 30.03125 56 36.53125 56 \r\nQ 37.453125 56 38.578125 55.875 \r\nQ 39.703125 55.765625 41.0625 55.515625 \r\nz\r\n\" id=\"DejaVuSans-114\"/>\r\n     </defs>\r\n     <g transform=\"translate(202.257031 272.487656)scale(0.1 -0.1)\">\r\n      <use xlink:href=\"#DejaVuSans-121\"/>\r\n      <use x=\"59.179688\" xlink:href=\"#DejaVuSans-101\"/>\r\n      <use x=\"120.703125\" xlink:href=\"#DejaVuSans-97\"/>\r\n      <use x=\"181.982422\" xlink:href=\"#DejaVuSans-114\"/>\r\n     </g>\r\n    </g>\r\n   </g>\r\n   <g id=\"matplotlib.axis_2\">\r\n    <g id=\"ytick_1\">\r\n     <g id=\"line2d_4\">\r\n      <defs>\r\n       <path d=\"M 0 0 \r\nL -3.5 0 \r\n\" id=\"m12cbabd613\" style=\"stroke:#000000;stroke-width:0.8;\"/>\r\n      </defs>\r\n      <g>\r\n       <use style=\"stroke:#000000;stroke-width:0.8;\" x=\"46.0125\" xlink:href=\"#m12cbabd613\" y=\"228.439219\"/>\r\n      </g>\r\n     </g>\r\n     <g id=\"text_5\">\r\n      <!-- 12500 -->\r\n      <defs>\r\n       <path d=\"M 10.796875 72.90625 \r\nL 49.515625 72.90625 \r\nL 49.515625 64.59375 \r\nL 19.828125 64.59375 \r\nL 19.828125 46.734375 \r\nQ 21.96875 47.46875 24.109375 47.828125 \r\nQ 26.265625 48.1875 28.421875 48.1875 \r\nQ 40.625 48.1875 47.75 41.5 \r\nQ 54.890625 34.8125 54.890625 23.390625 \r\nQ 54.890625 11.625 47.5625 5.09375 \r\nQ 40.234375 -1.421875 26.90625 -1.421875 \r\nQ 22.3125 -1.421875 17.546875 -0.640625 \r\nQ 12.796875 0.140625 7.71875 1.703125 \r\nL 7.71875 11.625 \r\nQ 12.109375 9.234375 16.796875 8.0625 \r\nQ 21.484375 6.890625 26.703125 6.890625 \r\nQ 35.15625 6.890625 40.078125 11.328125 \r\nQ 45.015625 15.765625 45.015625 23.390625 \r\nQ 45.015625 31 40.078125 35.4375 \r\nQ 35.15625 39.890625 26.703125 39.890625 \r\nQ 22.75 39.890625 18.8125 39.015625 \r\nQ 14.890625 38.140625 10.796875 36.28125 \r\nz\r\n\" id=\"DejaVuSans-53\"/>\r\n      </defs>\r\n      <g transform=\"translate(7.2 232.238437)scale(0.1 -0.1)\">\r\n       <use xlink:href=\"#DejaVuSans-49\"/>\r\n       <use x=\"63.623047\" xlink:href=\"#DejaVuSans-50\"/>\r\n       <use x=\"127.246094\" xlink:href=\"#DejaVuSans-53\"/>\r\n       <use x=\"190.869141\" xlink:href=\"#DejaVuSans-48\"/>\r\n       <use x=\"254.492188\" xlink:href=\"#DejaVuSans-48\"/>\r\n      </g>\r\n     </g>\r\n    </g>\r\n    <g id=\"ytick_2\">\r\n     <g id=\"line2d_5\">\r\n      <g>\r\n       <use style=\"stroke:#000000;stroke-width:0.8;\" x=\"46.0125\" xlink:href=\"#m12cbabd613\" y=\"201.259219\"/>\r\n      </g>\r\n     </g>\r\n     <g id=\"text_6\">\r\n      <!-- 12525 -->\r\n      <g transform=\"translate(7.2 205.058438)scale(0.1 -0.1)\">\r\n       <use xlink:href=\"#DejaVuSans-49\"/>\r\n       <use x=\"63.623047\" xlink:href=\"#DejaVuSans-50\"/>\r\n       <use x=\"127.246094\" xlink:href=\"#DejaVuSans-53\"/>\r\n       <use x=\"190.869141\" xlink:href=\"#DejaVuSans-50\"/>\r\n       <use x=\"254.492188\" xlink:href=\"#DejaVuSans-53\"/>\r\n      </g>\r\n     </g>\r\n    </g>\r\n    <g id=\"ytick_3\">\r\n     <g id=\"line2d_6\">\r\n      <g>\r\n       <use style=\"stroke:#000000;stroke-width:0.8;\" x=\"46.0125\" xlink:href=\"#m12cbabd613\" y=\"174.079219\"/>\r\n      </g>\r\n     </g>\r\n     <g id=\"text_7\">\r\n      <!-- 12550 -->\r\n      <g transform=\"translate(7.2 177.878437)scale(0.1 -0.1)\">\r\n       <use xlink:href=\"#DejaVuSans-49\"/>\r\n       <use x=\"63.623047\" xlink:href=\"#DejaVuSans-50\"/>\r\n       <use x=\"127.246094\" xlink:href=\"#DejaVuSans-53\"/>\r\n       <use x=\"190.869141\" xlink:href=\"#DejaVuSans-53\"/>\r\n       <use x=\"254.492188\" xlink:href=\"#DejaVuSans-48\"/>\r\n      </g>\r\n     </g>\r\n    </g>\r\n    <g id=\"ytick_4\">\r\n     <g id=\"line2d_7\">\r\n      <g>\r\n       <use style=\"stroke:#000000;stroke-width:0.8;\" x=\"46.0125\" xlink:href=\"#m12cbabd613\" y=\"146.899219\"/>\r\n      </g>\r\n     </g>\r\n     <g id=\"text_8\">\r\n      <!-- 12575 -->\r\n      <g transform=\"translate(7.2 150.698437)scale(0.1 -0.1)\">\r\n       <use xlink:href=\"#DejaVuSans-49\"/>\r\n       <use x=\"63.623047\" xlink:href=\"#DejaVuSans-50\"/>\r\n       <use x=\"127.246094\" xlink:href=\"#DejaVuSans-53\"/>\r\n       <use x=\"190.869141\" xlink:href=\"#DejaVuSans-55\"/>\r\n       <use x=\"254.492188\" xlink:href=\"#DejaVuSans-53\"/>\r\n      </g>\r\n     </g>\r\n    </g>\r\n    <g id=\"ytick_5\">\r\n     <g id=\"line2d_8\">\r\n      <g>\r\n       <use style=\"stroke:#000000;stroke-width:0.8;\" x=\"46.0125\" xlink:href=\"#m12cbabd613\" y=\"119.719219\"/>\r\n      </g>\r\n     </g>\r\n     <g id=\"text_9\">\r\n      <!-- 12600 -->\r\n      <g transform=\"translate(7.2 123.518437)scale(0.1 -0.1)\">\r\n       <use xlink:href=\"#DejaVuSans-49\"/>\r\n       <use x=\"63.623047\" xlink:href=\"#DejaVuSans-50\"/>\r\n       <use x=\"127.246094\" xlink:href=\"#DejaVuSans-54\"/>\r\n       <use x=\"190.869141\" xlink:href=\"#DejaVuSans-48\"/>\r\n       <use x=\"254.492188\" xlink:href=\"#DejaVuSans-48\"/>\r\n      </g>\r\n     </g>\r\n    </g>\r\n    <g id=\"ytick_6\">\r\n     <g id=\"line2d_9\">\r\n      <g>\r\n       <use style=\"stroke:#000000;stroke-width:0.8;\" x=\"46.0125\" xlink:href=\"#m12cbabd613\" y=\"92.539219\"/>\r\n      </g>\r\n     </g>\r\n     <g id=\"text_10\">\r\n      <!-- 12625 -->\r\n      <g transform=\"translate(7.2 96.338437)scale(0.1 -0.1)\">\r\n       <use xlink:href=\"#DejaVuSans-49\"/>\r\n       <use x=\"63.623047\" xlink:href=\"#DejaVuSans-50\"/>\r\n       <use x=\"127.246094\" xlink:href=\"#DejaVuSans-54\"/>\r\n       <use x=\"190.869141\" xlink:href=\"#DejaVuSans-50\"/>\r\n       <use x=\"254.492188\" xlink:href=\"#DejaVuSans-53\"/>\r\n      </g>\r\n     </g>\r\n    </g>\r\n    <g id=\"ytick_7\">\r\n     <g id=\"line2d_10\">\r\n      <g>\r\n       <use style=\"stroke:#000000;stroke-width:0.8;\" x=\"46.0125\" xlink:href=\"#m12cbabd613\" y=\"65.359219\"/>\r\n      </g>\r\n     </g>\r\n     <g id=\"text_11\">\r\n      <!-- 12650 -->\r\n      <g transform=\"translate(7.2 69.158437)scale(0.1 -0.1)\">\r\n       <use xlink:href=\"#DejaVuSans-49\"/>\r\n       <use x=\"63.623047\" xlink:href=\"#DejaVuSans-50\"/>\r\n       <use x=\"127.246094\" xlink:href=\"#DejaVuSans-54\"/>\r\n       <use x=\"190.869141\" xlink:href=\"#DejaVuSans-53\"/>\r\n       <use x=\"254.492188\" xlink:href=\"#DejaVuSans-48\"/>\r\n      </g>\r\n     </g>\r\n    </g>\r\n    <g id=\"ytick_8\">\r\n     <g id=\"line2d_11\">\r\n      <g>\r\n       <use style=\"stroke:#000000;stroke-width:0.8;\" x=\"46.0125\" xlink:href=\"#m12cbabd613\" y=\"38.179219\"/>\r\n      </g>\r\n     </g>\r\n     <g id=\"text_12\">\r\n      <!-- 12675 -->\r\n      <g transform=\"translate(7.2 41.978438)scale(0.1 -0.1)\">\r\n       <use xlink:href=\"#DejaVuSans-49\"/>\r\n       <use x=\"63.623047\" xlink:href=\"#DejaVuSans-50\"/>\r\n       <use x=\"127.246094\" xlink:href=\"#DejaVuSans-54\"/>\r\n       <use x=\"190.869141\" xlink:href=\"#DejaVuSans-55\"/>\r\n       <use x=\"254.492188\" xlink:href=\"#DejaVuSans-53\"/>\r\n      </g>\r\n     </g>\r\n    </g>\r\n    <g id=\"ytick_9\">\r\n     <g id=\"line2d_12\">\r\n      <g>\r\n       <use style=\"stroke:#000000;stroke-width:0.8;\" x=\"46.0125\" xlink:href=\"#m12cbabd613\" y=\"10.999219\"/>\r\n      </g>\r\n     </g>\r\n     <g id=\"text_13\">\r\n      <!-- 12700 -->\r\n      <g transform=\"translate(7.2 14.798438)scale(0.1 -0.1)\">\r\n       <use xlink:href=\"#DejaVuSans-49\"/>\r\n       <use x=\"63.623047\" xlink:href=\"#DejaVuSans-50\"/>\r\n       <use x=\"127.246094\" xlink:href=\"#DejaVuSans-55\"/>\r\n       <use x=\"190.869141\" xlink:href=\"#DejaVuSans-48\"/>\r\n       <use x=\"254.492188\" xlink:href=\"#DejaVuSans-48\"/>\r\n      </g>\r\n     </g>\r\n    </g>\r\n   </g>\r\n   <g id=\"patch_6\">\r\n    <path d=\"M 46.0125 228.439219 \r\nL 46.0125 10.999219 \r\n\" style=\"fill:none;stroke:#000000;stroke-linecap:square;stroke-linejoin:miter;stroke-width:0.8;\"/>\r\n   </g>\r\n   <g id=\"patch_7\">\r\n    <path d=\"M 380.8125 228.439219 \r\nL 380.8125 10.999219 \r\n\" style=\"fill:none;stroke:#000000;stroke-linecap:square;stroke-linejoin:miter;stroke-width:0.8;\"/>\r\n   </g>\r\n   <g id=\"patch_8\">\r\n    <path d=\"M 46.0125 228.439219 \r\nL 380.8125 228.439219 \r\n\" style=\"fill:none;stroke:#000000;stroke-linecap:square;stroke-linejoin:miter;stroke-width:0.8;\"/>\r\n   </g>\r\n   <g id=\"patch_9\">\r\n    <path d=\"M 46.0125 10.999219 \r\nL 380.8125 10.999219 \r\n\" style=\"fill:none;stroke:#000000;stroke-linecap:square;stroke-linejoin:miter;stroke-width:0.8;\"/>\r\n   </g>\r\n   <g id=\"legend_1\">\r\n    <g id=\"patch_10\">\r\n     <path d=\"M 304.267188 33.677344 \r\nL 373.8125 33.677344 \r\nQ 375.8125 33.677344 375.8125 31.677344 \r\nL 375.8125 17.999219 \r\nQ 375.8125 15.999219 373.8125 15.999219 \r\nL 304.267188 15.999219 \r\nQ 302.267188 15.999219 302.267188 17.999219 \r\nL 302.267188 31.677344 \r\nQ 302.267188 33.677344 304.267188 33.677344 \r\nz\r\n\" style=\"fill:#ffffff;opacity:0.8;stroke:#cccccc;stroke-linejoin:miter;\"/>\r\n    </g>\r\n    <g id=\"patch_11\">\r\n     <path d=\"M 306.267188 27.597656 \r\nL 326.267188 27.597656 \r\nL 326.267188 20.597656 \r\nL 306.267188 20.597656 \r\nz\r\n\" style=\"fill:#1f77b4;\"/>\r\n    </g>\r\n    <g id=\"text_14\">\r\n     <!-- records -->\r\n     <defs>\r\n      <path d=\"M 48.78125 52.59375 \r\nL 48.78125 44.1875 \r\nQ 44.96875 46.296875 41.140625 47.34375 \r\nQ 37.3125 48.390625 33.40625 48.390625 \r\nQ 24.65625 48.390625 19.8125 42.84375 \r\nQ 14.984375 37.3125 14.984375 27.296875 \r\nQ 14.984375 17.28125 19.8125 11.734375 \r\nQ 24.65625 6.203125 33.40625 6.203125 \r\nQ 37.3125 6.203125 41.140625 7.25 \r\nQ 44.96875 8.296875 48.78125 10.40625 \r\nL 48.78125 2.09375 \r\nQ 45.015625 0.34375 40.984375 -0.53125 \r\nQ 36.96875 -1.421875 32.421875 -1.421875 \r\nQ 20.0625 -1.421875 12.78125 6.34375 \r\nQ 5.515625 14.109375 5.515625 27.296875 \r\nQ 5.515625 40.671875 12.859375 48.328125 \r\nQ 20.21875 56 33.015625 56 \r\nQ 37.15625 56 41.109375 55.140625 \r\nQ 45.0625 54.296875 48.78125 52.59375 \r\nz\r\n\" id=\"DejaVuSans-99\"/>\r\n      <path d=\"M 30.609375 48.390625 \r\nQ 23.390625 48.390625 19.1875 42.75 \r\nQ 14.984375 37.109375 14.984375 27.296875 \r\nQ 14.984375 17.484375 19.15625 11.84375 \r\nQ 23.34375 6.203125 30.609375 6.203125 \r\nQ 37.796875 6.203125 41.984375 11.859375 \r\nQ 46.1875 17.53125 46.1875 27.296875 \r\nQ 46.1875 37.015625 41.984375 42.703125 \r\nQ 37.796875 48.390625 30.609375 48.390625 \r\nz\r\nM 30.609375 56 \r\nQ 42.328125 56 49.015625 48.375 \r\nQ 55.71875 40.765625 55.71875 27.296875 \r\nQ 55.71875 13.875 49.015625 6.21875 \r\nQ 42.328125 -1.421875 30.609375 -1.421875 \r\nQ 18.84375 -1.421875 12.171875 6.21875 \r\nQ 5.515625 13.875 5.515625 27.296875 \r\nQ 5.515625 40.765625 12.171875 48.375 \r\nQ 18.84375 56 30.609375 56 \r\nz\r\n\" id=\"DejaVuSans-111\"/>\r\n      <path d=\"M 45.40625 46.390625 \r\nL 45.40625 75.984375 \r\nL 54.390625 75.984375 \r\nL 54.390625 0 \r\nL 45.40625 0 \r\nL 45.40625 8.203125 \r\nQ 42.578125 3.328125 38.25 0.953125 \r\nQ 33.9375 -1.421875 27.875 -1.421875 \r\nQ 17.96875 -1.421875 11.734375 6.484375 \r\nQ 5.515625 14.40625 5.515625 27.296875 \r\nQ 5.515625 40.1875 11.734375 48.09375 \r\nQ 17.96875 56 27.875 56 \r\nQ 33.9375 56 38.25 53.625 \r\nQ 42.578125 51.265625 45.40625 46.390625 \r\nz\r\nM 14.796875 27.296875 \r\nQ 14.796875 17.390625 18.875 11.75 \r\nQ 22.953125 6.109375 30.078125 6.109375 \r\nQ 37.203125 6.109375 41.296875 11.75 \r\nQ 45.40625 17.390625 45.40625 27.296875 \r\nQ 45.40625 37.203125 41.296875 42.84375 \r\nQ 37.203125 48.484375 30.078125 48.484375 \r\nQ 22.953125 48.484375 18.875 42.84375 \r\nQ 14.796875 37.203125 14.796875 27.296875 \r\nz\r\n\" id=\"DejaVuSans-100\"/>\r\n      <path d=\"M 44.28125 53.078125 \r\nL 44.28125 44.578125 \r\nQ 40.484375 46.53125 36.375 47.5 \r\nQ 32.28125 48.484375 27.875 48.484375 \r\nQ 21.1875 48.484375 17.84375 46.4375 \r\nQ 14.5 44.390625 14.5 40.28125 \r\nQ 14.5 37.15625 16.890625 35.375 \r\nQ 19.28125 33.59375 26.515625 31.984375 \r\nL 29.59375 31.296875 \r\nQ 39.15625 29.25 43.1875 25.515625 \r\nQ 47.21875 21.78125 47.21875 15.09375 \r\nQ 47.21875 7.46875 41.1875 3.015625 \r\nQ 35.15625 -1.421875 24.609375 -1.421875 \r\nQ 20.21875 -1.421875 15.453125 -0.5625 \r\nQ 10.6875 0.296875 5.421875 2 \r\nL 5.421875 11.28125 \r\nQ 10.40625 8.6875 15.234375 7.390625 \r\nQ 20.0625 6.109375 24.8125 6.109375 \r\nQ 31.15625 6.109375 34.5625 8.28125 \r\nQ 37.984375 10.453125 37.984375 14.40625 \r\nQ 37.984375 18.0625 35.515625 20.015625 \r\nQ 33.0625 21.96875 24.703125 23.78125 \r\nL 21.578125 24.515625 \r\nQ 13.234375 26.265625 9.515625 29.90625 \r\nQ 5.8125 33.546875 5.8125 39.890625 \r\nQ 5.8125 47.609375 11.28125 51.796875 \r\nQ 16.75 56 26.8125 56 \r\nQ 31.78125 56 36.171875 55.265625 \r\nQ 40.578125 54.546875 44.28125 53.078125 \r\nz\r\n\" id=\"DejaVuSans-115\"/>\r\n     </defs>\r\n     <g transform=\"translate(334.267188 27.597656)scale(0.1 -0.1)\">\r\n      <use xlink:href=\"#DejaVuSans-114\"/>\r\n      <use x=\"41.082031\" xlink:href=\"#DejaVuSans-101\"/>\r\n      <use x=\"102.605469\" xlink:href=\"#DejaVuSans-99\"/>\r\n      <use x=\"157.585938\" xlink:href=\"#DejaVuSans-111\"/>\r\n      <use x=\"218.767578\" xlink:href=\"#DejaVuSans-114\"/>\r\n      <use x=\"259.865234\" xlink:href=\"#DejaVuSans-100\"/>\r\n      <use x=\"323.341797\" xlink:href=\"#DejaVuSans-115\"/>\r\n     </g>\r\n    </g>\r\n   </g>\r\n  </g>\r\n </g>\r\n <defs>\r\n  <clipPath id=\"pcc389930a2\">\r\n   <rect height=\"217.44\" width=\"334.8\" x=\"46.0125\" y=\"10.999219\"/>\r\n  </clipPath>\r\n </defs>\r\n</svg>\r\n",
      "image/png": "[encoded data removed]"
     },
     "metadata": {
      "needs_background": "light"
     }
    }
   ],
   "source": [
    "year_dist = pd.value_counts(database['year']).to_frame()\n",
    "year_dist.columns = ['records']\n",
    "year_dist['year'] = year_dist.index\n",
    "display(year_dist)\n",
    "\n",
    "year_dist.plot(kind = 'bar', x = 'year', y='records')\n",
    "plt.ylim(12500, 12700)\n",
    "plt.show()"
   ]
  },
  {
   "source": [
    "# 3. Create a variable with the length of the phone field"
   ],
   "cell_type": "markdown",
   "metadata": {}
  },
  {
   "cell_type": "code",
   "execution_count": 304,
   "metadata": {},
   "outputs": [],
   "source": [
    "#Bonus Question: Is there information in the phone variable that does not correspond to a phone number? If so, remove this information.\n",
    "def check_phone_num(phone):\n",
    "    phone = phone.translate({ord(i): None for i in '()'})\n",
    "    if phone.isnumeric():\t\n",
    "        return phone\n",
    "    else:\n",
    "        return ''\n",
    "\n",
    "database['dsc_telefone'] = database['dsc_telefone'].apply(check_phone_num)\n",
    "database['phone_len'] = database['dsc_telefone'].apply(len)\n"
   ]
  },
  {
   "source": [
    "# What are the least frequent lengths (the 5 least frequent) of phone numbers?"
   ],
   "cell_type": "markdown",
   "metadata": {}
  },
  {
   "cell_type": "code",
   "execution_count": 305,
   "metadata": {},
   "outputs": [
    {
     "output_type": "display_data",
     "data": {
      "text/plain": "    Frequency  length\n8        1886       8\n7         498       7\n11        104      11\n5           2       5\n6           1       6",
      "text/html": "<div>\n<style scoped>\n    .dataframe tbody tr th:only-of-type {\n        vertical-align: middle;\n    }\n\n    .dataframe tbody tr th {\n        vertical-align: top;\n    }\n\n    .dataframe thead th {\n        text-align: right;\n    }\n</style>\n<table border=\"1\" class=\"dataframe\">\n  <thead>\n    <tr style=\"text-align: right;\">\n      <th></th>\n      <th>Frequency</th>\n      <th>length</th>\n    </tr>\n  </thead>\n  <tbody>\n    <tr>\n      <th>8</th>\n      <td>1886</td>\n      <td>8</td>\n    </tr>\n    <tr>\n      <th>7</th>\n      <td>498</td>\n      <td>7</td>\n    </tr>\n    <tr>\n      <th>11</th>\n      <td>104</td>\n      <td>11</td>\n    </tr>\n    <tr>\n      <th>5</th>\n      <td>2</td>\n      <td>5</td>\n    </tr>\n    <tr>\n      <th>6</th>\n      <td>1</td>\n      <td>6</td>\n    </tr>\n  </tbody>\n</table>\n</div>"
     },
     "metadata": {}
    }
   ],
   "source": [
    "most_freq_phone_len = pd.DataFrame(pd.value_counts(database['phone_len']))\n",
    "most_freq_phone_len.columns = ['Frequency']\n",
    "most_freq_phone_len['length'] = most_freq_phone_len.index\n",
    "most_freq_phone_len = most_freq_phone_len.drop([0], axis = 0)\n",
    "display(most_freq_phone_len.tail(5))\n"
   ]
  },
  {
   "source": [
    "# How many records have a phone length other than 10? "
   ],
   "cell_type": "markdown",
   "metadata": {}
  },
  {
   "cell_type": "code",
   "execution_count": 306,
   "metadata": {},
   "outputs": [
    {
     "output_type": "execute_result",
     "data": {
      "text/plain": [
       "6"
      ]
     },
     "metadata": {},
     "execution_count": 306
    }
   ],
   "source": [
    "most_freq_phone_len[most_freq_phone_len['length']!=10].count()['length']"
   ]
  },
  {
   "source": [
    "# What is the percentage of this value considering the size of the database?"
   ],
   "cell_type": "markdown",
   "metadata": {}
  },
  {
   "cell_type": "code",
   "execution_count": 307,
   "metadata": {},
   "outputs": [
    {
     "output_type": "stream",
     "name": "stdout",
     "text": [
      "Percentage of the records that have a phone length other than 10: 19.55%\n"
     ]
    }
   ],
   "source": [
    "percent = most_freq_phone_len[most_freq_phone_len['length']!=10].sum()['Frequency']/most_freq_phone_len.sum()['Frequency']*100\n",
    "\n",
    "print('Percentage of the records that have a phone length other than 10: %.2f%%' % percent)\n"
   ]
  },
  {
   "source": [
    "# 4. How many records achieved an above or much above average performance regarding the status of the drugs? "
   ],
   "cell_type": "markdown",
   "metadata": {}
  },
  {
   "cell_type": "code",
   "execution_count": 308,
   "metadata": {},
   "outputs": [
    {
     "output_type": "stream",
     "name": "stdout",
     "text": [
      "16949\n"
     ]
    }
   ],
   "source": [
    "drugs = database.apply(lambda x : True\n",
    "    if 'acima' in x['dsc_medicamentos'] else False, axis = 1)\n",
    "good_records = len(drugs[drugs == True].index)\n",
    "print(good_records)"
   ]
  },
  {
   "source": [
    "# What is the percentage of this value considering the size of the database?"
   ],
   "cell_type": "markdown",
   "metadata": {}
  },
  {
   "cell_type": "code",
   "execution_count": 309,
   "metadata": {},
   "outputs": [
    {
     "output_type": "stream",
     "name": "stdout",
     "text": [
      "percentage of above or much above average: 44.97%\n"
     ]
    }
   ],
   "source": [
    "drugs_percent = good_records/len(drugs)*100\n",
    "print('percentage of above or much above average: %.2f%%' % drugs_percent)"
   ]
  },
  {
   "source": [
    "# 5. How many records in Bahia (code 29) achieved an average performance in relation to the situation of the drugs and a performance above or much above the average in relation to the situation of the equipment?"
   ],
   "cell_type": "markdown",
   "metadata": {}
  },
  {
   "source": [
    "def situation5(x):\n",
    "    if x['UF'] == '29' and 'mediano' in x['dsc_medicamentos'] and 'acima' in x['dsc_equipamentos']:\n",
    "        return True\n",
    "    else:\n",
    "        return False\n",
    "\n",
    "records_5 = database.apply(situation5, axis = 1)\n",
    "records_5_match = len(records_5[records_5 == True].index)\n",
    "print('answer: %4d records' % records_5_match)\n"
   ],
   "cell_type": "code",
   "metadata": {},
   "execution_count": 310,
   "outputs": [
    {
     "output_type": "stream",
     "name": "stdout",
     "text": [
      "answer:  207 records\n"
     ]
    }
   ]
  },
  {
   "source": [
    "# What is the percentage of this value considering the size of the database?"
   ],
   "cell_type": "markdown",
   "metadata": {}
  },
  {
   "cell_type": "code",
   "execution_count": 311,
   "metadata": {},
   "outputs": [
    {
     "output_type": "stream",
     "name": "stdout",
     "text": [
      "percentage of above or much above average: 0.55%\n"
     ]
    }
   ],
   "source": [
    "records_5_percent = records_5_match/len(records_5)*100\n",
    "print('percentage of above or much above average: %.2f%%' % records_5_percent)"
   ]
  },
  {
   "source": [
    "# 6. How many records had the worst performance in all variables that measure performance situations?"
   ],
   "cell_type": "markdown",
   "metadata": {}
  },
  {
   "cell_type": "code",
   "execution_count": 312,
   "metadata": {},
   "outputs": [
    {
     "output_type": "stream",
     "name": "stdout",
     "text": [
      "answer: 10317 records\n"
     ]
    }
   ],
   "source": [
    "def situation6(x):\n",
    "    if 'mediano' in x['dsc_medicamentos'] and 'mediano' in x['dsc_equipamentos'] and 'mediano' in x['dsc_estrut_fisic_ambiencia'] and 'mediano' in x['dsc_adap_defic_fisic_idosos']:\n",
    "        return True\n",
    "    else:\n",
    "        return False\n",
    "\n",
    "records_6 = database.apply(situation6, axis = 1)\n",
    "records_6_match = len(records_6[records_6 == True].index)\n",
    "print('answer: %4d records' % records_6_match)"
   ]
  },
  {
   "source": [
    "# What is the percentage of this value considering the size of the database?"
   ],
   "cell_type": "markdown",
   "metadata": {}
  },
  {
   "cell_type": "code",
   "execution_count": 313,
   "metadata": {},
   "outputs": [
    {
     "output_type": "stream",
     "name": "stdout",
     "text": [
      "percentage of worst performance: 27.37%\n"
     ]
    }
   ],
   "source": [
    "records_6_percent = records_6_match/len(records_6)*100\n",
    "print('percentage of worst performance: %.2f%%' % records_6_percent)"
   ]
  },
  {
   "source": [
    "Fontes:\n",
    "\n",
    "* https://www.geeksforgeeks.org/python-pandas-dataframe-groupby/\n",
    "* https://pandas.pydata.org/\n",
    "* https://www.w3schools.com/python/python_lambda.asp\n",
    "* https://www.journaldev.com/23674/python-remove-character-from-string#:~:text=Output%3A%20bc12321cb-,Python%20Remove%20Character%20from%20String%20using%20translate(),it%20from%20the%20result%20string.\n",
    "* https://docs.python.org/3/\n",
    "* https://matplotlib.org/\n",
    "\n",
    "\n"
   ],
   "cell_type": "markdown",
   "metadata": {}
  }
 ],
 "metadata": {
  "hide_input": false,
  "kernelspec": {
   "name": "python3",
   "display_name": "Python 3.7.4 64-bit (conda)",
   "metadata": {
    "interpreter": {
     "hash": "998846d1bf213eb190591cd8b152e1d6952973a52c40ed5e8db467f6f85c9dc7"
    }
   }
  },
  "language_info": {
   "codemirror_mode": {
    "name": "ipython",
    "version": 3
   },
   "file_extension": ".py",
   "mimetype": "text/x-python",
   "name": "python",
   "nbconvert_exporter": "python",
   "pygments_lexer": "ipython3",
   "version": "3.7.4-final"
  }
 },
 "nbformat": 4,
 "nbformat_minor": 2
}