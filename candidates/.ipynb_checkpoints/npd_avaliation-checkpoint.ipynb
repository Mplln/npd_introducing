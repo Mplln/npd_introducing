{
 "cells": [
  {
   "cell_type": "markdown",
   "metadata": {},
   "source": [
    "# CIDACS: SUPORTE EM ROTINAS DE PRODUÇÃO DE DADOS - Data analysis / Avaliation\n",
    "\n",
    "This is a practical and technical test whose objective is to evaluate your data analysis and interpretation. \n",
    "\n",
    "The dataset is related to the Basic Health Unity (UBS). It was made available by the Brazilian Ministry of Health and it shows the cities that received the government program.\n",
    "\n",
    "\n",
    "\n",
    "## Challenge\n",
    "Based on the data provided, answer the following questions:\n",
    "\n",
    "1. How many cities have at least one UBS?\n",
    "2. How many UBS in Vitoria received well above average equipment performance reviews?\n",
    "3. How many UBS received only well above average performances reviews?\n",
    "3. How many UBS received only the worse possible performance reviews?\n",
    "    1. Print all the cities that have UBS in this situation\n",
    "\n",
    "## Data dictionary\n",
    "\n",
    "\n",
    "* cod_munic `IBGE code , lenght: 7 characters.` \n",
    "* dsc_bairro `Neighborhood name.`\n",
    "* dsc_cidade `City name.`\n",
    "* cod_cnes `CNES code`\n",
    "* nom_estab `Establishment name`\n",
    "* dsc_endereco `UBS address`\n",
    "* dsc_estrut_fisic_ambiencia `Situation related to general structure`\n",
    "* dsc_adap_defic_fisic_idosos `Situation related to adaptations for the disabled and elderly`\n",
    "* dsc_equipamentos `Situation related to equipament`\n",
    "* dsc_medicamentos `Situation related to medicines`\n"
   ]
  }
 ],
 "metadata": {
  "kernelspec": {
   "display_name": "Python 3",
   "language": "python",
   "name": "python3"
  },
  "language_info": {
   "codemirror_mode": {
    "name": "ipython",
    "version": 3
   },
   "file_extension": ".py",
   "mimetype": "text/x-python",
   "name": "python",
   "nbconvert_exporter": "python",
   "pygments_lexer": "ipython3",
   "version": "3.6.6"
  }
 },
 "nbformat": 4,
 "nbformat_minor": 2
}
