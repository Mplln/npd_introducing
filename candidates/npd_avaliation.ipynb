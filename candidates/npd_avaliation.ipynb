{
 "cells": [
  {
   "cell_type": "code",
   "execution_count": 2,
   "metadata": {},
   "outputs": [
    {
     "name": "stderr",
     "output_type": "stream",
     "text": [
      "/usr/lib64/python3.6/importlib/_bootstrap.py:219: RuntimeWarning: numpy.dtype size changed, may indicate binary incompatibility. Expected 96, got 88\n",
      "  return f(*args, **kwds)\n"
     ]
    }
   ],
   "source": [
    "import pandas as pd\n",
    "import numpy as np"
   ]
  },
  {
   "cell_type": "markdown",
   "metadata": {},
   "source": [
    "# CIDACS: SUPORTE EM ROTINAS DE PRODUÇÃO DE DADOS - Data analysis / Avaliation\n",
    "\n",
    "This is a practical and technical test whose objective is to evaluate your data analysis and interpretation. \n",
    "\n",
    "The dataset is related to the Basic Health Unity (UBS). It was made available by the Brazilian Ministry of Health and it shows the cities that received the government program.\n",
    "\n",
    "\n",
    "\n",
    "## Challenge\n",
    "Based on the data provided, answer the following questions:\n",
    "\n",
    "1. How many cities have at least one UBS?\n",
    "2. How many UBS in Vitoria received well above average equipment performance reviews?\n",
    "3. How many UBS received only well above average performances reviews?\n",
    "3. How many UBS received only the worse possible performance reviews?\n",
    "    1. Print all the cities that have UBS in this situation\n",
    "\n",
    "## Data dictionary\n",
    "\n",
    "\n",
    "* cod_munic `IBGE code , lenght: 7 characters.` \n",
    "* dsc_bairro `Neighborhood name.`\n",
    "* dsc_cidade `City name.`\n",
    "* cod_cnes `CNES code`\n",
    "* nom_estab `Establishment name`\n",
    "* dsc_endereco `UBS address`\n",
    "* dsc_estrut_fisic_ambiencia `Situation related to general structure`\n",
    "* dsc_adap_defic_fisic_idosos `Situation related to adaptations for the disabled and elderly`\n",
    "* dsc_equipamentos `Situation related to equipament`\n",
    "* dsc_medicamentos `Situation related to medicines`\n"
   ]
  },
  {
   "cell_type": "code",
   "execution_count": 32,
   "metadata": {},
   "outputs": [],
   "source": [
    "df = pd.read_csv('./ubs_avaliation_npd.csv')"
   ]
  },
  {
   "cell_type": "code",
   "execution_count": 33,
   "metadata": {},
   "outputs": [
    {
     "data": {
      "text/plain": [
       "37690"
      ]
     },
     "execution_count": 33,
     "metadata": {},
     "output_type": "execute_result"
    }
   ],
   "source": [
    "len(df)"
   ]
  },
  {
   "cell_type": "code",
   "execution_count": 37,
   "metadata": {},
   "outputs": [
    {
     "data": {
      "text/html": [
       "<div>\n",
       "<style scoped>\n",
       "    .dataframe tbody tr th:only-of-type {\n",
       "        vertical-align: middle;\n",
       "    }\n",
       "\n",
       "    .dataframe tbody tr th {\n",
       "        vertical-align: top;\n",
       "    }\n",
       "\n",
       "    .dataframe thead th {\n",
       "        text-align: right;\n",
       "    }\n",
       "</style>\n",
       "<table border=\"1\" class=\"dataframe\">\n",
       "  <thead>\n",
       "    <tr style=\"text-align: right;\">\n",
       "      <th></th>\n",
       "      <th>Unnamed: 0</th>\n",
       "      <th>nom_estab</th>\n",
       "      <th>dsc_endereco</th>\n",
       "      <th>dsc_bairro</th>\n",
       "      <th>dsc_cidade</th>\n",
       "      <th>dsc_telefone</th>\n",
       "      <th>dsc_estrut_fisic_ambiencia</th>\n",
       "      <th>dsc_adap_defic_fisic_idosos</th>\n",
       "      <th>dsc_equipamentos</th>\n",
       "      <th>dsc_medicamentos</th>\n",
       "    </tr>\n",
       "  </thead>\n",
       "  <tbody>\n",
       "    <tr>\n",
       "      <th>0</th>\n",
       "      <td>0</td>\n",
       "      <td>US OSWALDO DE SOUZA</td>\n",
       "      <td>TV ADALTO BOTELHO</td>\n",
       "      <td>GETULIO VARGAS</td>\n",
       "      <td>Aracaju</td>\n",
       "      <td>7931791326</td>\n",
       "      <td>Good</td>\n",
       "      <td>Excellent</td>\n",
       "      <td>Average</td>\n",
       "      <td>Good</td>\n",
       "    </tr>\n",
       "    <tr>\n",
       "      <th>1</th>\n",
       "      <td>1</td>\n",
       "      <td>USF ENFERMEIRO PEDRO JACINTO AREA 09</td>\n",
       "      <td>R 15 DE AGOSTO</td>\n",
       "      <td>CENTRO</td>\n",
       "      <td>Rio Largo</td>\n",
       "      <td>Nao se aplica</td>\n",
       "      <td>Average</td>\n",
       "      <td>Average</td>\n",
       "      <td>Average</td>\n",
       "      <td>Average</td>\n",
       "    </tr>\n",
       "    <tr>\n",
       "      <th>2</th>\n",
       "      <td>2</td>\n",
       "      <td>UNIDADE DE ATENCAO PRIMARIA SAUDE DA FAMILIA</td>\n",
       "      <td>RUA GUILHERME BRUXEL</td>\n",
       "      <td>CENTRO</td>\n",
       "      <td>Perobal</td>\n",
       "      <td>4436251462</td>\n",
       "      <td>Excellent</td>\n",
       "      <td>Excellent</td>\n",
       "      <td>Average</td>\n",
       "      <td>Excellent</td>\n",
       "    </tr>\n",
       "    <tr>\n",
       "      <th>3</th>\n",
       "      <td>3</td>\n",
       "      <td>POSTO DE SAUDE DE BOM JESUS DA ALDEIA</td>\n",
       "      <td>RUA TEOFILO OTONI</td>\n",
       "      <td>ALDEIA</td>\n",
       "      <td>Jequitinhonha</td>\n",
       "      <td>3337411423</td>\n",
       "      <td>Average</td>\n",
       "      <td>Good</td>\n",
       "      <td>Average</td>\n",
       "      <td>Average</td>\n",
       "    </tr>\n",
       "    <tr>\n",
       "      <th>4</th>\n",
       "      <td>4</td>\n",
       "      <td>POSTO ANCORA URUBA</td>\n",
       "      <td>RODOVIA PB N 065</td>\n",
       "      <td>SITIO</td>\n",
       "      <td>Mataraca</td>\n",
       "      <td>Nao se aplica</td>\n",
       "      <td>Good</td>\n",
       "      <td>Good</td>\n",
       "      <td>Average</td>\n",
       "      <td>Average</td>\n",
       "    </tr>\n",
       "  </tbody>\n",
       "</table>\n",
       "</div>"
      ],
      "text/plain": [
       "   Unnamed: 0                                     nom_estab  \\\n",
       "0           0                           US OSWALDO DE SOUZA   \n",
       "1           1          USF ENFERMEIRO PEDRO JACINTO AREA 09   \n",
       "2           2  UNIDADE DE ATENCAO PRIMARIA SAUDE DA FAMILIA   \n",
       "3           3         POSTO DE SAUDE DE BOM JESUS DA ALDEIA   \n",
       "4           4                            POSTO ANCORA URUBA   \n",
       "\n",
       "           dsc_endereco      dsc_bairro     dsc_cidade   dsc_telefone  \\\n",
       "0     TV ADALTO BOTELHO  GETULIO VARGAS        Aracaju     7931791326   \n",
       "1        R 15 DE AGOSTO          CENTRO      Rio Largo  Nao se aplica   \n",
       "2  RUA GUILHERME BRUXEL          CENTRO        Perobal     4436251462   \n",
       "3     RUA TEOFILO OTONI          ALDEIA  Jequitinhonha     3337411423   \n",
       "4      RODOVIA PB N 065           SITIO       Mataraca  Nao se aplica   \n",
       "\n",
       "  dsc_estrut_fisic_ambiencia dsc_adap_defic_fisic_idosos dsc_equipamentos  \\\n",
       "0                       Good                   Excellent          Average   \n",
       "1                    Average                     Average          Average   \n",
       "2                  Excellent                   Excellent          Average   \n",
       "3                    Average                        Good          Average   \n",
       "4                       Good                        Good          Average   \n",
       "\n",
       "  dsc_medicamentos  \n",
       "0             Good  \n",
       "1          Average  \n",
       "2        Excellent  \n",
       "3          Average  \n",
       "4          Average  "
      ]
     },
     "execution_count": 37,
     "metadata": {},
     "output_type": "execute_result"
    }
   ],
   "source": [
    "df.head()"
   ]
  },
  {
   "cell_type": "markdown",
   "metadata": {},
   "source": [
    "### How many cities have at least one UBS?"
   ]
  },
  {
   "cell_type": "code",
   "execution_count": 23,
   "metadata": {
    "scrolled": true
   },
   "outputs": [
    {
     "data": {
      "text/plain": [
       "5226"
      ]
     },
     "execution_count": 23,
     "metadata": {},
     "output_type": "execute_result"
    }
   ],
   "source": [
    "len(df.groupby('dsc_cidade', as_index=False))"
   ]
  },
  {
   "cell_type": "markdown",
   "metadata": {},
   "source": [
    "### How many UBS in Vitória received well above average equipment performance reviews?"
   ]
  },
  {
   "cell_type": "code",
   "execution_count": 36,
   "metadata": {},
   "outputs": [
    {
     "data": {
      "text/plain": [
       "13"
      ]
     },
     "execution_count": 36,
     "metadata": {},
     "output_type": "execute_result"
    }
   ],
   "source": [
    "value = 'Excellent'\n",
    "df_filtered = df[ (df.dsc_cidade == 'Vitoria' ) & (df.dsc_equipamentos == value) ]\n",
    "len(df_filtered)"
   ]
  },
  {
   "cell_type": "markdown",
   "metadata": {},
   "source": [
    "### How many UBS received only well above average performances reviews?"
   ]
  },
  {
   "cell_type": "code",
   "execution_count": 57,
   "metadata": {},
   "outputs": [
    {
     "data": {
      "text/plain": [
       "102"
      ]
     },
     "execution_count": 57,
     "metadata": {},
     "output_type": "execute_result"
    }
   ],
   "source": [
    "value = 'Desempenho muito acima da média'\n",
    "df_filtered = df[ (df.dsc_estrut_fisic_ambiencia == value) & (df.dsc_adap_defic_fisic_idosos == value) & (df.dsc_equipamentos == value) & (df.dsc_medicamentos == value)]\n",
    "#len(df_filtered.groupby('dsc_endereco', as_index=False)) aqui você não conta uma UBS que está no mesmo endereço que outra.\n",
    "len(df_filtered)"
   ]
  },
  {
   "cell_type": "markdown",
   "metadata": {},
   "source": [
    "### How many UBS received only the worse possible performance reviews?"
   ]
  },
  {
   "cell_type": "code",
   "execution_count": 39,
   "metadata": {},
   "outputs": [
    {
     "data": {
      "text/plain": [
       "8588"
      ]
     },
     "execution_count": 39,
     "metadata": {},
     "output_type": "execute_result"
    }
   ],
   "source": [
    "value = 'Average'\n",
    "df_filtred = df[ (df.dsc_estrut_fisic_ambiencia == value) & (df.dsc_adap_defic_fisic_idosos == value) & (df.dsc_equipamentos == value) & (df.dsc_medicamentos == value)]\n",
    "len(df_filtred.groupby('dsc_endereco', as_index=False))"
   ]
  },
  {
   "cell_type": "code",
   "execution_count": 40,
   "metadata": {},
   "outputs": [
    {
     "name": "stdout",
     "output_type": "stream",
     "text": [
      "8588\n"
     ]
    },
    {
     "data": {
      "text/plain": [
       "0                              Abadiania\n",
       "1                             Abaetetuba\n",
       "2                        Abel Figueiredo\n",
       "3                           Abreu e Lima\n",
       "4                             Acailandia\n",
       "5                              Acajutiba\n",
       "6                                  Acara\n",
       "7                                Acarape\n",
       "8                                 Acarau\n",
       "9                                  Acari\n",
       "10                              Acorizal\n",
       "11                            Acrelandia\n",
       "12                               Acreuna\n",
       "13                          Adrianopolis\n",
       "14                              Adustina\n",
       "15                 Afogados da Ingazeira\n",
       "16                        Afonso Claudio\n",
       "17                          Afonso Cunha\n",
       "18                          Agricolandia\n",
       "19                    Agua Azul do Norte\n",
       "20                              Agua Boa\n",
       "21                           Agua Branca\n",
       "22                            Agua Clara\n",
       "23                 Agua Doce do Maranhao\n",
       "24                    Agua Doce do Norte\n",
       "25                             Agua Fria\n",
       "26                    Agua Fria de Goias\n",
       "27                             Agua Nova\n",
       "28                                 Aguai\n",
       "29                           Aguas Belas\n",
       "                      ...               \n",
       "2690                     Vicosa do Ceara\n",
       "2691                             Videira\n",
       "2692                         Vieiropolis\n",
       "2693                               Vigia\n",
       "2694    Vila Bela da Santissima Trindade\n",
       "2695                  Vila Nova do Piaui\n",
       "2696             Vila Nova dos Martirios\n",
       "2697                          Vila Pavao\n",
       "2698                             Vilhena\n",
       "2699                            Virginia\n",
       "2700              Visconde do Rio Branco\n",
       "2701                               Viseu\n",
       "2702                Vista Alegre do Alto\n",
       "2703                       Vista Serrana\n",
       "2704                             Vitoria\n",
       "2705                Vitoria da Conquista\n",
       "2706              Vitoria de Santo Antao\n",
       "2707                     Vitoria do Jari\n",
       "2708                   Vitoria do Mearim\n",
       "2709                     Vitorino Freire\n",
       "2710                        Volta Grande\n",
       "2711                       Volta Redonda\n",
       "2712                              Wagner\n",
       "2713                         Wall Ferraz\n",
       "2714                 Wenceslau Guimaraes\n",
       "2715                           Xavantina\n",
       "2716                               Xaxim\n",
       "2717                            Xinguara\n",
       "2718                         Xique-Xique\n",
       "2719                             Ze Doca\n",
       "Name: dsc_cidade, Length: 2720, dtype: object"
      ]
     },
     "execution_count": 40,
     "metadata": {},
     "output_type": "execute_result"
    }
   ],
   "source": [
    "value = 'Average' #Aqui pode dar um pouco de problema pelo espaço duplo entre duas palavras.\n",
    "df_filtered = df[ (df.dsc_estrut_fisic_ambiencia == value) & (df.dsc_adap_defic_fisic_idosos == value) & (df.dsc_equipamentos == value) & (df.dsc_medicamentos == value)]\n",
    "print(len(df_filtered.groupby('dsc_endereco', as_index=False)))\n",
    "df_filtered.groupby('dsc_cidade', as_index=False).agg('count')['dsc_cidade']"
   ]
  },
  {
   "cell_type": "code",
   "execution_count": 25,
   "metadata": {},
   "outputs": [],
   "source": [
    "cols = df.select_dtypes(include=[np.object]).columns\n",
    "df = df[cols].apply(lambda x: x.str.normalize('NFKD').str.encode('ascii', errors='ignore').str.decode('utf-8'))\n"
   ]
  },
  {
   "cell_type": "code",
   "execution_count": 26,
   "metadata": {},
   "outputs": [],
   "source": [
    "columns = ['dsc_estrut_fisic_ambiencia','dsc_adap_defic_fisic_idosos','dsc_equipamentos','dsc_medicamentos']\n",
    "dic = {\n",
    "    'Desempenho acima da media':'Good',\n",
    "    'Desempenho mediano ou um pouco abaixo da media':'Average',\n",
    "    'Desempenho muito acima da media':'Excellent'\n",
    "}\n",
    "def change_categories(line):\n",
    "    try:\n",
    "        return dic[line]\n",
    "    except:\n",
    "        return 'Average'\n",
    "for column in columns:\n",
    "    df[column] = df[column].apply(change_categories)"
   ]
  }
 ],
 "metadata": {
  "kernelspec": {
   "display_name": "Python 3",
   "language": "python",
   "name": "python3"
  },
  "language_info": {
   "codemirror_mode": {
    "name": "ipython",
    "version": 3
   },
   "file_extension": ".py",
   "mimetype": "text/x-python",
   "name": "python",
   "nbconvert_exporter": "python",
   "pygments_lexer": "ipython3",
   "version": "3.6.6"
  }
 },
 "nbformat": 4,
 "nbformat_minor": 2
}
