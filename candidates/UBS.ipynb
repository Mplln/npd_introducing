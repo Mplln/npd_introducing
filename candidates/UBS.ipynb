{
 "cells": [
  {
   "cell_type": "markdown",
   "metadata": {},
   "source": [
    "# CIDACS: SUPORTE EM ROTINAS DE PRODUÇÃO DE DADOS - Data analysis / Avaliation\n",
    "\n",
    "This is a practical and technical test whose objective is to evaluate how could you analyze and interprets data.The purpose of this test is to identify your capacity to analyze data and maybe to suggest news insights.\n",
    "\n",
    "The dataset is related to the Basic Health Unity (UBS), it was disponibility by the Ministry of Health of Brazil, it shows the cities that received the program of the government.\n",
    "\n",
    "Consider that you are working on a task that is part of delivering a project in production, so it is interesting to document and build well-structured code. Answers, code documentation and comments can be written in Portuguese.\n",
    "\n",
    "## Challenge\n",
    "Based on the data provided, answer the following questions:\n",
    "\n",
    "1. Create a variable with the UF code (Unidade Federativa) where the UBS are located.\n",
    "    1. What are the UF codes present in the database?\n",
    "    * What are the most frequent UF codes (the 5 most frequent) and how often do they occur?\n",
    "    * How many cities are there in these 5 most frequent UFs?\n",
    "    \n",
    "    Note: The first two digits of the municipality code represent the UF.\n",
    "\n",
    "2. There is a fictitious date variable (`data_eq`) in the database created only for this selection process. Create a variable with the year extracted from that variable.\n",
    "    1. Show the distribution of records by year.\n",
    "\n",
    "3. Create a variable with the length of the phone field\n",
    "    1. What are the least frequent lengths (the 5 least frequent) of phone numbers?\n",
    "    * How many records have a phone length other than 10? What is the percentage of this value considering the size of the database?\n",
    "    \n",
    "    Bonus Question: Is there information in the phone variable that does not correspond to a phone number? If so, remove this information.\n",
    "    \n",
    "4. How many records achieved an above or much above average performance regarding the status of the drugs? What is the percentage of this value considering the size of the database?\n",
    "\n",
    "5. How many records in Bahia (code 29) achieved an average performance in relation to the situation of the drugs and a performance above or much above the average in relation to the situation of the equipment? What is the percentage of this value considering the size of the database?\n",
    "\n",
    "6. How many records had the worst performance in all variables that measure performance situations? What is the percentage of this value considering the size of the database?\n",
    "\n",
    "\n",
    "## Data dictionary\n",
    "\n",
    "\n",
    "* cod_munic `IBGE code, lenght: 7 characters.` \n",
    "* dsc_bairro `Name of neighborhood.`\n",
    "* dsc_cidade `Name of city.`\n",
    "* cod_cnes `CNES code`\n",
    "* nom_estab `Name of the establishment`\n",
    "* dsc_endereco `Address of UBS`\n",
    "* dsc_estrut_fisic_ambiencia `Situation-related to general structure`\n",
    "* dsc_adap_defic_fisic_idosos `Situation-related to adaptations for the disabled and the elderly`\n",
    "* dsc_equipamentos `Situation-related to equipament`\n",
    "* dsc_medicamentos `Situation-related to medicine`\n",
    "* date_eq `Date variable`"
   ]
  }
 ],
 "metadata": {
  "hide_input": false,
  "kernelspec": {
   "display_name": "Python 3",
   "language": "python",
   "name": "python3"
  },
  "language_info": {
   "codemirror_mode": {
    "name": "ipython",
    "version": 3
   },
   "file_extension": ".py",
   "mimetype": "text/x-python",
   "name": "python",
   "nbconvert_exporter": "python",
   "pygments_lexer": "ipython3",
   "version": "3.7.3"
  }
 },
 "nbformat": 4,
 "nbformat_minor": 2
}
