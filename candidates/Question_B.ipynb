{
 "cells": [
  {
   "cell_type": "markdown",
   "metadata": {},
   "source": [
    "# CIDACS: SUPORTE EM ROTINAS DE PRODUÇÃO DE DADOS - Logical / Problem solving\n",
    "\n",
    "The CIDACS team is always eager to learn more and push their knowledge, and so they have constant meetings to discuss about articles and scientific methodology. Reading an article, Dani realized that there were many words that could be written the same way when reversed. Such words are called palindromes. She then counted how many palindromes there were in each sentence and wrote each palindrome down. Can you keep up with her?\n",
    "\n",
    "### Input\n",
    "The input consist in one line an integer n, the number of sentences. Then follows n lines with a string sentence each.\n",
    "\n",
    "### Output\n",
    "For every sentence, the first line should contain the number of palindromes in that sentence. Then, in each following line should be printed the palindrome words in lexicographically descending order.\n",
    "\n",
    "### Example 1\n",
    "input<br>\n",
    "4<br>\n",
    "may i come in madam<br>\n",
    "hello world<br>\n",
    "my mom gave me a racecar<br>\n",
    "migrate to the data lake structure<br>\n",
    "\n",
    "output<br>\n",
    "2<br>\n",
    "madam<br>\n",
    "i<br>\n",
    "0<br>\n",
    "3<br>\n",
    "racecar<br>\n",
    "mom<br>\n",
    "a<br>\n",
    "0<br>\n",
    "\n",
    "### Example 2\n",
    "input<br>\n",
    "3<br>\n",
    "ana asked me if i wanted to become a nun<br>\n",
    "may the force be with you<br>\n",
    "dad wants me to keep an eye on the oil level<br>\n",
    "\n",
    "output<br>\n",
    "4<br>\n",
    "nun<br>\n",
    "i<br>\n",
    "ana<br>\n",
    "a<br>\n",
    "0<br>\n",
    "3<br>\n",
    "level<br>\n",
    "eye<br>\n",
    "dad<br>\n"
   ]
  }
 ],
 "metadata": {
  "kernelspec": {
   "display_name": "Python 3",
   "language": "python",
   "name": "python3"
  },
  "language_info": {
   "codemirror_mode": {
    "name": "ipython",
    "version": 3
   },
   "file_extension": ".py",
   "mimetype": "text/x-python",
   "name": "python",
   "nbconvert_exporter": "python",
   "pygments_lexer": "ipython3",
   "version": "3.6.5"
  }
 },
 "nbformat": 4,
 "nbformat_minor": 2
}
